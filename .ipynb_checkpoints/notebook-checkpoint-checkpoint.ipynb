{
 "cells": [
  {
   "cell_type": "markdown",
   "metadata": {},
   "source": [
    "## Phase 3 Project\n",
    "\n",
    "* <b>Name:</b> James Benedito\n",
    "* <b>Pace:</b> Part-Time \n",
    "* <b>Instructor:</b> Morgan Jones"
   ]
  },
  {
   "cell_type": "markdown",
   "metadata": {},
   "source": [
    "## Business Problem\n",
    "\n",
    "With the recent COVID-19 pandemic affecting the entire world, vaccines have been at the center of many conversations. The development of COVID-19 vaccines by various companies like Moderna and Pfizer have exposed the hesitancies and concerns people have about receiving them. \n",
    "\n",
    "This Jupyter notebook will examine data on another vaccine, the H1N1 flu vaccine, to determine the best predictors of a person getting vaccinated for H1N1. The information presented in this notebook will be applicable to public health officials who are at the forefront of vaccine awareness efforts and give them insight on the types of people they can target more to increase overall H1N1 vaccination rates. "
   ]
  },
  {
   "cell_type": "markdown",
   "metadata": {},
   "source": [
    "## Goal\n",
    "\n",
    "My goal is to generate concrete suggestions on ways to increase H1N1 vaccination rates by creating different classification models. These models will be trained on training data and their efficacy will be quantified using metrics produced by a classification report. I will then choose the best model, tune its hyperparameters, and finalize my model."
   ]
  },
  {
   "cell_type": "markdown",
   "metadata": {},
   "source": [
    "## Dataset\n",
    "\n",
    "The dataset I am using for this analysis houses data from the National 2009 H1N1 Flu Survey, which was conducted in the United States. It consists of answers to questions regarding a participant's background, vaccine opinions, and health behaviors. It should be noted that the dataset has two targets, the <b>h1n1_vaccine</b> and <b>seasonal_vaccine</b> variables. However, for this project, the sole <b>dependent variable</b> of interest is the <b>h1n1_vaccine</b> variable. The dataset is essentially split up into 3 different files: <b>training_set_features</b>, <b>training_set_labels</b>, and <b>test_set_features</b>. For the sake of simplicity, I will merely be looking at the <b>training_set_features</b> and <b>training_set_labels</b> files. I will combine both files into a single dataset and perform a <b>train_test_split()</b> to create a training set and a test set. "
   ]
  },
  {
   "cell_type": "markdown",
   "metadata": {},
   "source": [
    "## Data Exploration\n",
    "\n",
    "I will start by exploring the <b>training_set_features</b> file using the <b>.head()</b>, <b>.info()</b>, and <b>.describe()</b> methods. "
   ]
  },
  {
   "cell_type": "code",
   "execution_count": 1,
   "metadata": {},
   "outputs": [
    {
     "data": {
      "text/html": [
       "<div>\n",
       "<style scoped>\n",
       "    .dataframe tbody tr th:only-of-type {\n",
       "        vertical-align: middle;\n",
       "    }\n",
       "\n",
       "    .dataframe tbody tr th {\n",
       "        vertical-align: top;\n",
       "    }\n",
       "\n",
       "    .dataframe thead th {\n",
       "        text-align: right;\n",
       "    }\n",
       "</style>\n",
       "<table border=\"1\" class=\"dataframe\">\n",
       "  <thead>\n",
       "    <tr style=\"text-align: right;\">\n",
       "      <th></th>\n",
       "      <th>h1n1_concern</th>\n",
       "      <th>h1n1_knowledge</th>\n",
       "      <th>behavioral_antiviral_meds</th>\n",
       "      <th>behavioral_avoidance</th>\n",
       "      <th>behavioral_face_mask</th>\n",
       "      <th>behavioral_wash_hands</th>\n",
       "      <th>behavioral_large_gatherings</th>\n",
       "      <th>behavioral_outside_home</th>\n",
       "      <th>behavioral_touch_face</th>\n",
       "      <th>doctor_recc_h1n1</th>\n",
       "      <th>...</th>\n",
       "      <th>income_poverty</th>\n",
       "      <th>marital_status</th>\n",
       "      <th>rent_or_own</th>\n",
       "      <th>employment_status</th>\n",
       "      <th>hhs_geo_region</th>\n",
       "      <th>census_msa</th>\n",
       "      <th>household_adults</th>\n",
       "      <th>household_children</th>\n",
       "      <th>employment_industry</th>\n",
       "      <th>employment_occupation</th>\n",
       "    </tr>\n",
       "    <tr>\n",
       "      <th>respondent_id</th>\n",
       "      <th></th>\n",
       "      <th></th>\n",
       "      <th></th>\n",
       "      <th></th>\n",
       "      <th></th>\n",
       "      <th></th>\n",
       "      <th></th>\n",
       "      <th></th>\n",
       "      <th></th>\n",
       "      <th></th>\n",
       "      <th></th>\n",
       "      <th></th>\n",
       "      <th></th>\n",
       "      <th></th>\n",
       "      <th></th>\n",
       "      <th></th>\n",
       "      <th></th>\n",
       "      <th></th>\n",
       "      <th></th>\n",
       "      <th></th>\n",
       "      <th></th>\n",
       "    </tr>\n",
       "  </thead>\n",
       "  <tbody>\n",
       "    <tr>\n",
       "      <th>0</th>\n",
       "      <td>1.0</td>\n",
       "      <td>0.0</td>\n",
       "      <td>0.0</td>\n",
       "      <td>0.0</td>\n",
       "      <td>0.0</td>\n",
       "      <td>0.0</td>\n",
       "      <td>0.0</td>\n",
       "      <td>1.0</td>\n",
       "      <td>1.0</td>\n",
       "      <td>0.0</td>\n",
       "      <td>...</td>\n",
       "      <td>Below Poverty</td>\n",
       "      <td>Not Married</td>\n",
       "      <td>Own</td>\n",
       "      <td>Not in Labor Force</td>\n",
       "      <td>oxchjgsf</td>\n",
       "      <td>Non-MSA</td>\n",
       "      <td>0.0</td>\n",
       "      <td>0.0</td>\n",
       "      <td>NaN</td>\n",
       "      <td>NaN</td>\n",
       "    </tr>\n",
       "    <tr>\n",
       "      <th>1</th>\n",
       "      <td>3.0</td>\n",
       "      <td>2.0</td>\n",
       "      <td>0.0</td>\n",
       "      <td>1.0</td>\n",
       "      <td>0.0</td>\n",
       "      <td>1.0</td>\n",
       "      <td>0.0</td>\n",
       "      <td>1.0</td>\n",
       "      <td>1.0</td>\n",
       "      <td>0.0</td>\n",
       "      <td>...</td>\n",
       "      <td>Below Poverty</td>\n",
       "      <td>Not Married</td>\n",
       "      <td>Rent</td>\n",
       "      <td>Employed</td>\n",
       "      <td>bhuqouqj</td>\n",
       "      <td>MSA, Not Principle  City</td>\n",
       "      <td>0.0</td>\n",
       "      <td>0.0</td>\n",
       "      <td>pxcmvdjn</td>\n",
       "      <td>xgwztkwe</td>\n",
       "    </tr>\n",
       "    <tr>\n",
       "      <th>2</th>\n",
       "      <td>1.0</td>\n",
       "      <td>1.0</td>\n",
       "      <td>0.0</td>\n",
       "      <td>1.0</td>\n",
       "      <td>0.0</td>\n",
       "      <td>0.0</td>\n",
       "      <td>0.0</td>\n",
       "      <td>0.0</td>\n",
       "      <td>0.0</td>\n",
       "      <td>NaN</td>\n",
       "      <td>...</td>\n",
       "      <td>&lt;= $75,000, Above Poverty</td>\n",
       "      <td>Not Married</td>\n",
       "      <td>Own</td>\n",
       "      <td>Employed</td>\n",
       "      <td>qufhixun</td>\n",
       "      <td>MSA, Not Principle  City</td>\n",
       "      <td>2.0</td>\n",
       "      <td>0.0</td>\n",
       "      <td>rucpziij</td>\n",
       "      <td>xtkaffoo</td>\n",
       "    </tr>\n",
       "    <tr>\n",
       "      <th>3</th>\n",
       "      <td>1.0</td>\n",
       "      <td>1.0</td>\n",
       "      <td>0.0</td>\n",
       "      <td>1.0</td>\n",
       "      <td>0.0</td>\n",
       "      <td>1.0</td>\n",
       "      <td>1.0</td>\n",
       "      <td>0.0</td>\n",
       "      <td>0.0</td>\n",
       "      <td>0.0</td>\n",
       "      <td>...</td>\n",
       "      <td>Below Poverty</td>\n",
       "      <td>Not Married</td>\n",
       "      <td>Rent</td>\n",
       "      <td>Not in Labor Force</td>\n",
       "      <td>lrircsnp</td>\n",
       "      <td>MSA, Principle City</td>\n",
       "      <td>0.0</td>\n",
       "      <td>0.0</td>\n",
       "      <td>NaN</td>\n",
       "      <td>NaN</td>\n",
       "    </tr>\n",
       "    <tr>\n",
       "      <th>4</th>\n",
       "      <td>2.0</td>\n",
       "      <td>1.0</td>\n",
       "      <td>0.0</td>\n",
       "      <td>1.0</td>\n",
       "      <td>0.0</td>\n",
       "      <td>1.0</td>\n",
       "      <td>1.0</td>\n",
       "      <td>0.0</td>\n",
       "      <td>1.0</td>\n",
       "      <td>0.0</td>\n",
       "      <td>...</td>\n",
       "      <td>&lt;= $75,000, Above Poverty</td>\n",
       "      <td>Married</td>\n",
       "      <td>Own</td>\n",
       "      <td>Employed</td>\n",
       "      <td>qufhixun</td>\n",
       "      <td>MSA, Not Principle  City</td>\n",
       "      <td>1.0</td>\n",
       "      <td>0.0</td>\n",
       "      <td>wxleyezf</td>\n",
       "      <td>emcorrxb</td>\n",
       "    </tr>\n",
       "  </tbody>\n",
       "</table>\n",
       "<p>5 rows × 35 columns</p>\n",
       "</div>"
      ],
      "text/plain": [
       "               h1n1_concern  h1n1_knowledge  behavioral_antiviral_meds  \\\n",
       "respondent_id                                                            \n",
       "0                       1.0             0.0                        0.0   \n",
       "1                       3.0             2.0                        0.0   \n",
       "2                       1.0             1.0                        0.0   \n",
       "3                       1.0             1.0                        0.0   \n",
       "4                       2.0             1.0                        0.0   \n",
       "\n",
       "               behavioral_avoidance  behavioral_face_mask  \\\n",
       "respondent_id                                               \n",
       "0                               0.0                   0.0   \n",
       "1                               1.0                   0.0   \n",
       "2                               1.0                   0.0   \n",
       "3                               1.0                   0.0   \n",
       "4                               1.0                   0.0   \n",
       "\n",
       "               behavioral_wash_hands  behavioral_large_gatherings  \\\n",
       "respondent_id                                                       \n",
       "0                                0.0                          0.0   \n",
       "1                                1.0                          0.0   \n",
       "2                                0.0                          0.0   \n",
       "3                                1.0                          1.0   \n",
       "4                                1.0                          1.0   \n",
       "\n",
       "               behavioral_outside_home  behavioral_touch_face  \\\n",
       "respondent_id                                                   \n",
       "0                                  1.0                    1.0   \n",
       "1                                  1.0                    1.0   \n",
       "2                                  0.0                    0.0   \n",
       "3                                  0.0                    0.0   \n",
       "4                                  0.0                    1.0   \n",
       "\n",
       "               doctor_recc_h1n1  ...             income_poverty  \\\n",
       "respondent_id                    ...                              \n",
       "0                           0.0  ...              Below Poverty   \n",
       "1                           0.0  ...              Below Poverty   \n",
       "2                           NaN  ...  <= $75,000, Above Poverty   \n",
       "3                           0.0  ...              Below Poverty   \n",
       "4                           0.0  ...  <= $75,000, Above Poverty   \n",
       "\n",
       "               marital_status  rent_or_own   employment_status  \\\n",
       "respondent_id                                                    \n",
       "0                 Not Married          Own  Not in Labor Force   \n",
       "1                 Not Married         Rent            Employed   \n",
       "2                 Not Married          Own            Employed   \n",
       "3                 Not Married         Rent  Not in Labor Force   \n",
       "4                     Married          Own            Employed   \n",
       "\n",
       "               hhs_geo_region                census_msa  household_adults  \\\n",
       "respondent_id                                                               \n",
       "0                    oxchjgsf                   Non-MSA               0.0   \n",
       "1                    bhuqouqj  MSA, Not Principle  City               0.0   \n",
       "2                    qufhixun  MSA, Not Principle  City               2.0   \n",
       "3                    lrircsnp       MSA, Principle City               0.0   \n",
       "4                    qufhixun  MSA, Not Principle  City               1.0   \n",
       "\n",
       "               household_children  employment_industry  employment_occupation  \n",
       "respondent_id                                                                  \n",
       "0                             0.0                  NaN                    NaN  \n",
       "1                             0.0             pxcmvdjn               xgwztkwe  \n",
       "2                             0.0             rucpziij               xtkaffoo  \n",
       "3                             0.0                  NaN                    NaN  \n",
       "4                             0.0             wxleyezf               emcorrxb  \n",
       "\n",
       "[5 rows x 35 columns]"
      ]
     },
     "execution_count": 1,
     "metadata": {},
     "output_type": "execute_result"
    }
   ],
   "source": [
    "import pandas as pd\n",
    "\n",
    "training_set_feat = pd.read_csv('training_set_features.csv', index_col=0)\n",
    "training_set_feat.head()"
   ]
  },
  {
   "cell_type": "code",
   "execution_count": 2,
   "metadata": {
    "scrolled": true
   },
   "outputs": [
    {
     "name": "stdout",
     "output_type": "stream",
     "text": [
      "<class 'pandas.core.frame.DataFrame'>\n",
      "Int64Index: 26707 entries, 0 to 26706\n",
      "Data columns (total 35 columns):\n",
      " #   Column                       Non-Null Count  Dtype  \n",
      "---  ------                       --------------  -----  \n",
      " 0   h1n1_concern                 26615 non-null  float64\n",
      " 1   h1n1_knowledge               26591 non-null  float64\n",
      " 2   behavioral_antiviral_meds    26636 non-null  float64\n",
      " 3   behavioral_avoidance         26499 non-null  float64\n",
      " 4   behavioral_face_mask         26688 non-null  float64\n",
      " 5   behavioral_wash_hands        26665 non-null  float64\n",
      " 6   behavioral_large_gatherings  26620 non-null  float64\n",
      " 7   behavioral_outside_home      26625 non-null  float64\n",
      " 8   behavioral_touch_face        26579 non-null  float64\n",
      " 9   doctor_recc_h1n1             24547 non-null  float64\n",
      " 10  doctor_recc_seasonal         24547 non-null  float64\n",
      " 11  chronic_med_condition        25736 non-null  float64\n",
      " 12  child_under_6_months         25887 non-null  float64\n",
      " 13  health_worker                25903 non-null  float64\n",
      " 14  health_insurance             14433 non-null  float64\n",
      " 15  opinion_h1n1_vacc_effective  26316 non-null  float64\n",
      " 16  opinion_h1n1_risk            26319 non-null  float64\n",
      " 17  opinion_h1n1_sick_from_vacc  26312 non-null  float64\n",
      " 18  opinion_seas_vacc_effective  26245 non-null  float64\n",
      " 19  opinion_seas_risk            26193 non-null  float64\n",
      " 20  opinion_seas_sick_from_vacc  26170 non-null  float64\n",
      " 21  age_group                    26707 non-null  object \n",
      " 22  education                    25300 non-null  object \n",
      " 23  race                         26707 non-null  object \n",
      " 24  sex                          26707 non-null  object \n",
      " 25  income_poverty               22284 non-null  object \n",
      " 26  marital_status               25299 non-null  object \n",
      " 27  rent_or_own                  24665 non-null  object \n",
      " 28  employment_status            25244 non-null  object \n",
      " 29  hhs_geo_region               26707 non-null  object \n",
      " 30  census_msa                   26707 non-null  object \n",
      " 31  household_adults             26458 non-null  float64\n",
      " 32  household_children           26458 non-null  float64\n",
      " 33  employment_industry          13377 non-null  object \n",
      " 34  employment_occupation        13237 non-null  object \n",
      "dtypes: float64(23), object(12)\n",
      "memory usage: 7.3+ MB\n"
     ]
    }
   ],
   "source": [
    "training_set_feat.info()"
   ]
  },
  {
   "cell_type": "code",
   "execution_count": 3,
   "metadata": {},
   "outputs": [
    {
     "data": {
      "text/html": [
       "<div>\n",
       "<style scoped>\n",
       "    .dataframe tbody tr th:only-of-type {\n",
       "        vertical-align: middle;\n",
       "    }\n",
       "\n",
       "    .dataframe tbody tr th {\n",
       "        vertical-align: top;\n",
       "    }\n",
       "\n",
       "    .dataframe thead th {\n",
       "        text-align: right;\n",
       "    }\n",
       "</style>\n",
       "<table border=\"1\" class=\"dataframe\">\n",
       "  <thead>\n",
       "    <tr style=\"text-align: right;\">\n",
       "      <th></th>\n",
       "      <th>h1n1_concern</th>\n",
       "      <th>h1n1_knowledge</th>\n",
       "      <th>behavioral_antiviral_meds</th>\n",
       "      <th>behavioral_avoidance</th>\n",
       "      <th>behavioral_face_mask</th>\n",
       "      <th>behavioral_wash_hands</th>\n",
       "      <th>behavioral_large_gatherings</th>\n",
       "      <th>behavioral_outside_home</th>\n",
       "      <th>behavioral_touch_face</th>\n",
       "      <th>doctor_recc_h1n1</th>\n",
       "      <th>...</th>\n",
       "      <th>health_worker</th>\n",
       "      <th>health_insurance</th>\n",
       "      <th>opinion_h1n1_vacc_effective</th>\n",
       "      <th>opinion_h1n1_risk</th>\n",
       "      <th>opinion_h1n1_sick_from_vacc</th>\n",
       "      <th>opinion_seas_vacc_effective</th>\n",
       "      <th>opinion_seas_risk</th>\n",
       "      <th>opinion_seas_sick_from_vacc</th>\n",
       "      <th>household_adults</th>\n",
       "      <th>household_children</th>\n",
       "    </tr>\n",
       "  </thead>\n",
       "  <tbody>\n",
       "    <tr>\n",
       "      <th>count</th>\n",
       "      <td>26615.000000</td>\n",
       "      <td>26591.000000</td>\n",
       "      <td>26636.000000</td>\n",
       "      <td>26499.000000</td>\n",
       "      <td>26688.000000</td>\n",
       "      <td>26665.000000</td>\n",
       "      <td>26620.00000</td>\n",
       "      <td>26625.000000</td>\n",
       "      <td>26579.000000</td>\n",
       "      <td>24547.000000</td>\n",
       "      <td>...</td>\n",
       "      <td>25903.000000</td>\n",
       "      <td>14433.00000</td>\n",
       "      <td>26316.000000</td>\n",
       "      <td>26319.000000</td>\n",
       "      <td>26312.000000</td>\n",
       "      <td>26245.000000</td>\n",
       "      <td>26193.000000</td>\n",
       "      <td>26170.000000</td>\n",
       "      <td>26458.000000</td>\n",
       "      <td>26458.000000</td>\n",
       "    </tr>\n",
       "    <tr>\n",
       "      <th>mean</th>\n",
       "      <td>1.618486</td>\n",
       "      <td>1.262532</td>\n",
       "      <td>0.048844</td>\n",
       "      <td>0.725612</td>\n",
       "      <td>0.068982</td>\n",
       "      <td>0.825614</td>\n",
       "      <td>0.35864</td>\n",
       "      <td>0.337315</td>\n",
       "      <td>0.677264</td>\n",
       "      <td>0.220312</td>\n",
       "      <td>...</td>\n",
       "      <td>0.111918</td>\n",
       "      <td>0.87972</td>\n",
       "      <td>3.850623</td>\n",
       "      <td>2.342566</td>\n",
       "      <td>2.357670</td>\n",
       "      <td>4.025986</td>\n",
       "      <td>2.719162</td>\n",
       "      <td>2.118112</td>\n",
       "      <td>0.886499</td>\n",
       "      <td>0.534583</td>\n",
       "    </tr>\n",
       "    <tr>\n",
       "      <th>std</th>\n",
       "      <td>0.910311</td>\n",
       "      <td>0.618149</td>\n",
       "      <td>0.215545</td>\n",
       "      <td>0.446214</td>\n",
       "      <td>0.253429</td>\n",
       "      <td>0.379448</td>\n",
       "      <td>0.47961</td>\n",
       "      <td>0.472802</td>\n",
       "      <td>0.467531</td>\n",
       "      <td>0.414466</td>\n",
       "      <td>...</td>\n",
       "      <td>0.315271</td>\n",
       "      <td>0.32530</td>\n",
       "      <td>1.007436</td>\n",
       "      <td>1.285539</td>\n",
       "      <td>1.362766</td>\n",
       "      <td>1.086565</td>\n",
       "      <td>1.385055</td>\n",
       "      <td>1.332950</td>\n",
       "      <td>0.753422</td>\n",
       "      <td>0.928173</td>\n",
       "    </tr>\n",
       "    <tr>\n",
       "      <th>min</th>\n",
       "      <td>0.000000</td>\n",
       "      <td>0.000000</td>\n",
       "      <td>0.000000</td>\n",
       "      <td>0.000000</td>\n",
       "      <td>0.000000</td>\n",
       "      <td>0.000000</td>\n",
       "      <td>0.00000</td>\n",
       "      <td>0.000000</td>\n",
       "      <td>0.000000</td>\n",
       "      <td>0.000000</td>\n",
       "      <td>...</td>\n",
       "      <td>0.000000</td>\n",
       "      <td>0.00000</td>\n",
       "      <td>1.000000</td>\n",
       "      <td>1.000000</td>\n",
       "      <td>1.000000</td>\n",
       "      <td>1.000000</td>\n",
       "      <td>1.000000</td>\n",
       "      <td>1.000000</td>\n",
       "      <td>0.000000</td>\n",
       "      <td>0.000000</td>\n",
       "    </tr>\n",
       "    <tr>\n",
       "      <th>25%</th>\n",
       "      <td>1.000000</td>\n",
       "      <td>1.000000</td>\n",
       "      <td>0.000000</td>\n",
       "      <td>0.000000</td>\n",
       "      <td>0.000000</td>\n",
       "      <td>1.000000</td>\n",
       "      <td>0.00000</td>\n",
       "      <td>0.000000</td>\n",
       "      <td>0.000000</td>\n",
       "      <td>0.000000</td>\n",
       "      <td>...</td>\n",
       "      <td>0.000000</td>\n",
       "      <td>1.00000</td>\n",
       "      <td>3.000000</td>\n",
       "      <td>1.000000</td>\n",
       "      <td>1.000000</td>\n",
       "      <td>4.000000</td>\n",
       "      <td>2.000000</td>\n",
       "      <td>1.000000</td>\n",
       "      <td>0.000000</td>\n",
       "      <td>0.000000</td>\n",
       "    </tr>\n",
       "    <tr>\n",
       "      <th>50%</th>\n",
       "      <td>2.000000</td>\n",
       "      <td>1.000000</td>\n",
       "      <td>0.000000</td>\n",
       "      <td>1.000000</td>\n",
       "      <td>0.000000</td>\n",
       "      <td>1.000000</td>\n",
       "      <td>0.00000</td>\n",
       "      <td>0.000000</td>\n",
       "      <td>1.000000</td>\n",
       "      <td>0.000000</td>\n",
       "      <td>...</td>\n",
       "      <td>0.000000</td>\n",
       "      <td>1.00000</td>\n",
       "      <td>4.000000</td>\n",
       "      <td>2.000000</td>\n",
       "      <td>2.000000</td>\n",
       "      <td>4.000000</td>\n",
       "      <td>2.000000</td>\n",
       "      <td>2.000000</td>\n",
       "      <td>1.000000</td>\n",
       "      <td>0.000000</td>\n",
       "    </tr>\n",
       "    <tr>\n",
       "      <th>75%</th>\n",
       "      <td>2.000000</td>\n",
       "      <td>2.000000</td>\n",
       "      <td>0.000000</td>\n",
       "      <td>1.000000</td>\n",
       "      <td>0.000000</td>\n",
       "      <td>1.000000</td>\n",
       "      <td>1.00000</td>\n",
       "      <td>1.000000</td>\n",
       "      <td>1.000000</td>\n",
       "      <td>0.000000</td>\n",
       "      <td>...</td>\n",
       "      <td>0.000000</td>\n",
       "      <td>1.00000</td>\n",
       "      <td>5.000000</td>\n",
       "      <td>4.000000</td>\n",
       "      <td>4.000000</td>\n",
       "      <td>5.000000</td>\n",
       "      <td>4.000000</td>\n",
       "      <td>4.000000</td>\n",
       "      <td>1.000000</td>\n",
       "      <td>1.000000</td>\n",
       "    </tr>\n",
       "    <tr>\n",
       "      <th>max</th>\n",
       "      <td>3.000000</td>\n",
       "      <td>2.000000</td>\n",
       "      <td>1.000000</td>\n",
       "      <td>1.000000</td>\n",
       "      <td>1.000000</td>\n",
       "      <td>1.000000</td>\n",
       "      <td>1.00000</td>\n",
       "      <td>1.000000</td>\n",
       "      <td>1.000000</td>\n",
       "      <td>1.000000</td>\n",
       "      <td>...</td>\n",
       "      <td>1.000000</td>\n",
       "      <td>1.00000</td>\n",
       "      <td>5.000000</td>\n",
       "      <td>5.000000</td>\n",
       "      <td>5.000000</td>\n",
       "      <td>5.000000</td>\n",
       "      <td>5.000000</td>\n",
       "      <td>5.000000</td>\n",
       "      <td>3.000000</td>\n",
       "      <td>3.000000</td>\n",
       "    </tr>\n",
       "  </tbody>\n",
       "</table>\n",
       "<p>8 rows × 23 columns</p>\n",
       "</div>"
      ],
      "text/plain": [
       "       h1n1_concern  h1n1_knowledge  behavioral_antiviral_meds  \\\n",
       "count  26615.000000    26591.000000               26636.000000   \n",
       "mean       1.618486        1.262532                   0.048844   \n",
       "std        0.910311        0.618149                   0.215545   \n",
       "min        0.000000        0.000000                   0.000000   \n",
       "25%        1.000000        1.000000                   0.000000   \n",
       "50%        2.000000        1.000000                   0.000000   \n",
       "75%        2.000000        2.000000                   0.000000   \n",
       "max        3.000000        2.000000                   1.000000   \n",
       "\n",
       "       behavioral_avoidance  behavioral_face_mask  behavioral_wash_hands  \\\n",
       "count          26499.000000          26688.000000           26665.000000   \n",
       "mean               0.725612              0.068982               0.825614   \n",
       "std                0.446214              0.253429               0.379448   \n",
       "min                0.000000              0.000000               0.000000   \n",
       "25%                0.000000              0.000000               1.000000   \n",
       "50%                1.000000              0.000000               1.000000   \n",
       "75%                1.000000              0.000000               1.000000   \n",
       "max                1.000000              1.000000               1.000000   \n",
       "\n",
       "       behavioral_large_gatherings  behavioral_outside_home  \\\n",
       "count                  26620.00000             26625.000000   \n",
       "mean                       0.35864                 0.337315   \n",
       "std                        0.47961                 0.472802   \n",
       "min                        0.00000                 0.000000   \n",
       "25%                        0.00000                 0.000000   \n",
       "50%                        0.00000                 0.000000   \n",
       "75%                        1.00000                 1.000000   \n",
       "max                        1.00000                 1.000000   \n",
       "\n",
       "       behavioral_touch_face  doctor_recc_h1n1  ...  health_worker  \\\n",
       "count           26579.000000      24547.000000  ...   25903.000000   \n",
       "mean                0.677264          0.220312  ...       0.111918   \n",
       "std                 0.467531          0.414466  ...       0.315271   \n",
       "min                 0.000000          0.000000  ...       0.000000   \n",
       "25%                 0.000000          0.000000  ...       0.000000   \n",
       "50%                 1.000000          0.000000  ...       0.000000   \n",
       "75%                 1.000000          0.000000  ...       0.000000   \n",
       "max                 1.000000          1.000000  ...       1.000000   \n",
       "\n",
       "       health_insurance  opinion_h1n1_vacc_effective  opinion_h1n1_risk  \\\n",
       "count       14433.00000                 26316.000000       26319.000000   \n",
       "mean            0.87972                     3.850623           2.342566   \n",
       "std             0.32530                     1.007436           1.285539   \n",
       "min             0.00000                     1.000000           1.000000   \n",
       "25%             1.00000                     3.000000           1.000000   \n",
       "50%             1.00000                     4.000000           2.000000   \n",
       "75%             1.00000                     5.000000           4.000000   \n",
       "max             1.00000                     5.000000           5.000000   \n",
       "\n",
       "       opinion_h1n1_sick_from_vacc  opinion_seas_vacc_effective  \\\n",
       "count                 26312.000000                 26245.000000   \n",
       "mean                      2.357670                     4.025986   \n",
       "std                       1.362766                     1.086565   \n",
       "min                       1.000000                     1.000000   \n",
       "25%                       1.000000                     4.000000   \n",
       "50%                       2.000000                     4.000000   \n",
       "75%                       4.000000                     5.000000   \n",
       "max                       5.000000                     5.000000   \n",
       "\n",
       "       opinion_seas_risk  opinion_seas_sick_from_vacc  household_adults  \\\n",
       "count       26193.000000                 26170.000000      26458.000000   \n",
       "mean            2.719162                     2.118112          0.886499   \n",
       "std             1.385055                     1.332950          0.753422   \n",
       "min             1.000000                     1.000000          0.000000   \n",
       "25%             2.000000                     1.000000          0.000000   \n",
       "50%             2.000000                     2.000000          1.000000   \n",
       "75%             4.000000                     4.000000          1.000000   \n",
       "max             5.000000                     5.000000          3.000000   \n",
       "\n",
       "       household_children  \n",
       "count        26458.000000  \n",
       "mean             0.534583  \n",
       "std              0.928173  \n",
       "min              0.000000  \n",
       "25%              0.000000  \n",
       "50%              0.000000  \n",
       "75%              1.000000  \n",
       "max              3.000000  \n",
       "\n",
       "[8 rows x 23 columns]"
      ]
     },
     "execution_count": 3,
     "metadata": {},
     "output_type": "execute_result"
    }
   ],
   "source": [
    "training_set_feat.describe()"
   ]
  },
  {
   "cell_type": "markdown",
   "metadata": {},
   "source": [
    "From our initial exploration of the <b>training_set_features</b> file, we can see that the dataset is quite large, consisting of <b>35 feature columns</b> and <b>over 26,000 rows</b>. The feature columns are a mixture of float and object dtypes, according to <b>.info()</b>. In addition, many of the columns are missing data.\n",
    "\n",
    "Let's take a look at the <b>training_set_labels</b> file using the <b>.head()</b> and <b>.info()</b> methods. "
   ]
  },
  {
   "cell_type": "code",
   "execution_count": 4,
   "metadata": {},
   "outputs": [
    {
     "data": {
      "text/html": [
       "<div>\n",
       "<style scoped>\n",
       "    .dataframe tbody tr th:only-of-type {\n",
       "        vertical-align: middle;\n",
       "    }\n",
       "\n",
       "    .dataframe tbody tr th {\n",
       "        vertical-align: top;\n",
       "    }\n",
       "\n",
       "    .dataframe thead th {\n",
       "        text-align: right;\n",
       "    }\n",
       "</style>\n",
       "<table border=\"1\" class=\"dataframe\">\n",
       "  <thead>\n",
       "    <tr style=\"text-align: right;\">\n",
       "      <th></th>\n",
       "      <th>h1n1_vaccine</th>\n",
       "      <th>seasonal_vaccine</th>\n",
       "    </tr>\n",
       "    <tr>\n",
       "      <th>respondent_id</th>\n",
       "      <th></th>\n",
       "      <th></th>\n",
       "    </tr>\n",
       "  </thead>\n",
       "  <tbody>\n",
       "    <tr>\n",
       "      <th>0</th>\n",
       "      <td>0</td>\n",
       "      <td>0</td>\n",
       "    </tr>\n",
       "    <tr>\n",
       "      <th>1</th>\n",
       "      <td>0</td>\n",
       "      <td>1</td>\n",
       "    </tr>\n",
       "    <tr>\n",
       "      <th>2</th>\n",
       "      <td>0</td>\n",
       "      <td>0</td>\n",
       "    </tr>\n",
       "    <tr>\n",
       "      <th>3</th>\n",
       "      <td>0</td>\n",
       "      <td>1</td>\n",
       "    </tr>\n",
       "    <tr>\n",
       "      <th>4</th>\n",
       "      <td>0</td>\n",
       "      <td>0</td>\n",
       "    </tr>\n",
       "  </tbody>\n",
       "</table>\n",
       "</div>"
      ],
      "text/plain": [
       "               h1n1_vaccine  seasonal_vaccine\n",
       "respondent_id                                \n",
       "0                         0                 0\n",
       "1                         0                 1\n",
       "2                         0                 0\n",
       "3                         0                 1\n",
       "4                         0                 0"
      ]
     },
     "execution_count": 4,
     "metadata": {},
     "output_type": "execute_result"
    }
   ],
   "source": [
    "training_set_labels = pd.read_csv('training_set_labels.csv', index_col=0)\n",
    "training_set_labels.head()"
   ]
  },
  {
   "cell_type": "code",
   "execution_count": 5,
   "metadata": {},
   "outputs": [
    {
     "name": "stdout",
     "output_type": "stream",
     "text": [
      "<class 'pandas.core.frame.DataFrame'>\n",
      "Int64Index: 26707 entries, 0 to 26706\n",
      "Data columns (total 2 columns):\n",
      " #   Column            Non-Null Count  Dtype\n",
      "---  ------            --------------  -----\n",
      " 0   h1n1_vaccine      26707 non-null  int64\n",
      " 1   seasonal_vaccine  26707 non-null  int64\n",
      "dtypes: int64(2)\n",
      "memory usage: 625.9 KB\n"
     ]
    }
   ],
   "source": [
    "training_set_labels.info()"
   ]
  },
  {
   "cell_type": "markdown",
   "metadata": {},
   "source": [
    "From <b>.head()</b>, we see that the <b>training_set_labels</b> file has two targets, <b>h1n1_vaccine</b> and <b>seasonal_vaccine</b>. As pointed out previously, the sole target we want to focus on for this project is the <b>h1n1_vaccine</b> variable. "
   ]
  },
  {
   "cell_type": "markdown",
   "metadata": {},
   "source": [
    "## Data Preparation and Cleaning\n",
    "\n",
    "Let's merge the <b>training_set_feat</b> and <b>training_set_labels</b> data into one dataframe called <b>h1n1_data</b>. Then, from there, we can drop any unnecessary columns. "
   ]
  },
  {
   "cell_type": "code",
   "execution_count": 6,
   "metadata": {},
   "outputs": [
    {
     "data": {
      "text/html": [
       "<div>\n",
       "<style scoped>\n",
       "    .dataframe tbody tr th:only-of-type {\n",
       "        vertical-align: middle;\n",
       "    }\n",
       "\n",
       "    .dataframe tbody tr th {\n",
       "        vertical-align: top;\n",
       "    }\n",
       "\n",
       "    .dataframe thead th {\n",
       "        text-align: right;\n",
       "    }\n",
       "</style>\n",
       "<table border=\"1\" class=\"dataframe\">\n",
       "  <thead>\n",
       "    <tr style=\"text-align: right;\">\n",
       "      <th></th>\n",
       "      <th>h1n1_concern</th>\n",
       "      <th>h1n1_knowledge</th>\n",
       "      <th>behavioral_antiviral_meds</th>\n",
       "      <th>behavioral_avoidance</th>\n",
       "      <th>behavioral_face_mask</th>\n",
       "      <th>behavioral_wash_hands</th>\n",
       "      <th>behavioral_large_gatherings</th>\n",
       "      <th>behavioral_outside_home</th>\n",
       "      <th>behavioral_touch_face</th>\n",
       "      <th>doctor_recc_h1n1</th>\n",
       "      <th>...</th>\n",
       "      <th>rent_or_own</th>\n",
       "      <th>employment_status</th>\n",
       "      <th>hhs_geo_region</th>\n",
       "      <th>census_msa</th>\n",
       "      <th>household_adults</th>\n",
       "      <th>household_children</th>\n",
       "      <th>employment_industry</th>\n",
       "      <th>employment_occupation</th>\n",
       "      <th>h1n1_vaccine</th>\n",
       "      <th>seasonal_vaccine</th>\n",
       "    </tr>\n",
       "    <tr>\n",
       "      <th>respondent_id</th>\n",
       "      <th></th>\n",
       "      <th></th>\n",
       "      <th></th>\n",
       "      <th></th>\n",
       "      <th></th>\n",
       "      <th></th>\n",
       "      <th></th>\n",
       "      <th></th>\n",
       "      <th></th>\n",
       "      <th></th>\n",
       "      <th></th>\n",
       "      <th></th>\n",
       "      <th></th>\n",
       "      <th></th>\n",
       "      <th></th>\n",
       "      <th></th>\n",
       "      <th></th>\n",
       "      <th></th>\n",
       "      <th></th>\n",
       "      <th></th>\n",
       "      <th></th>\n",
       "    </tr>\n",
       "  </thead>\n",
       "  <tbody>\n",
       "    <tr>\n",
       "      <th>0</th>\n",
       "      <td>1.0</td>\n",
       "      <td>0.0</td>\n",
       "      <td>0.0</td>\n",
       "      <td>0.0</td>\n",
       "      <td>0.0</td>\n",
       "      <td>0.0</td>\n",
       "      <td>0.0</td>\n",
       "      <td>1.0</td>\n",
       "      <td>1.0</td>\n",
       "      <td>0.0</td>\n",
       "      <td>...</td>\n",
       "      <td>Own</td>\n",
       "      <td>Not in Labor Force</td>\n",
       "      <td>oxchjgsf</td>\n",
       "      <td>Non-MSA</td>\n",
       "      <td>0.0</td>\n",
       "      <td>0.0</td>\n",
       "      <td>NaN</td>\n",
       "      <td>NaN</td>\n",
       "      <td>0</td>\n",
       "      <td>0</td>\n",
       "    </tr>\n",
       "    <tr>\n",
       "      <th>1</th>\n",
       "      <td>3.0</td>\n",
       "      <td>2.0</td>\n",
       "      <td>0.0</td>\n",
       "      <td>1.0</td>\n",
       "      <td>0.0</td>\n",
       "      <td>1.0</td>\n",
       "      <td>0.0</td>\n",
       "      <td>1.0</td>\n",
       "      <td>1.0</td>\n",
       "      <td>0.0</td>\n",
       "      <td>...</td>\n",
       "      <td>Rent</td>\n",
       "      <td>Employed</td>\n",
       "      <td>bhuqouqj</td>\n",
       "      <td>MSA, Not Principle  City</td>\n",
       "      <td>0.0</td>\n",
       "      <td>0.0</td>\n",
       "      <td>pxcmvdjn</td>\n",
       "      <td>xgwztkwe</td>\n",
       "      <td>0</td>\n",
       "      <td>1</td>\n",
       "    </tr>\n",
       "    <tr>\n",
       "      <th>2</th>\n",
       "      <td>1.0</td>\n",
       "      <td>1.0</td>\n",
       "      <td>0.0</td>\n",
       "      <td>1.0</td>\n",
       "      <td>0.0</td>\n",
       "      <td>0.0</td>\n",
       "      <td>0.0</td>\n",
       "      <td>0.0</td>\n",
       "      <td>0.0</td>\n",
       "      <td>NaN</td>\n",
       "      <td>...</td>\n",
       "      <td>Own</td>\n",
       "      <td>Employed</td>\n",
       "      <td>qufhixun</td>\n",
       "      <td>MSA, Not Principle  City</td>\n",
       "      <td>2.0</td>\n",
       "      <td>0.0</td>\n",
       "      <td>rucpziij</td>\n",
       "      <td>xtkaffoo</td>\n",
       "      <td>0</td>\n",
       "      <td>0</td>\n",
       "    </tr>\n",
       "    <tr>\n",
       "      <th>3</th>\n",
       "      <td>1.0</td>\n",
       "      <td>1.0</td>\n",
       "      <td>0.0</td>\n",
       "      <td>1.0</td>\n",
       "      <td>0.0</td>\n",
       "      <td>1.0</td>\n",
       "      <td>1.0</td>\n",
       "      <td>0.0</td>\n",
       "      <td>0.0</td>\n",
       "      <td>0.0</td>\n",
       "      <td>...</td>\n",
       "      <td>Rent</td>\n",
       "      <td>Not in Labor Force</td>\n",
       "      <td>lrircsnp</td>\n",
       "      <td>MSA, Principle City</td>\n",
       "      <td>0.0</td>\n",
       "      <td>0.0</td>\n",
       "      <td>NaN</td>\n",
       "      <td>NaN</td>\n",
       "      <td>0</td>\n",
       "      <td>1</td>\n",
       "    </tr>\n",
       "    <tr>\n",
       "      <th>4</th>\n",
       "      <td>2.0</td>\n",
       "      <td>1.0</td>\n",
       "      <td>0.0</td>\n",
       "      <td>1.0</td>\n",
       "      <td>0.0</td>\n",
       "      <td>1.0</td>\n",
       "      <td>1.0</td>\n",
       "      <td>0.0</td>\n",
       "      <td>1.0</td>\n",
       "      <td>0.0</td>\n",
       "      <td>...</td>\n",
       "      <td>Own</td>\n",
       "      <td>Employed</td>\n",
       "      <td>qufhixun</td>\n",
       "      <td>MSA, Not Principle  City</td>\n",
       "      <td>1.0</td>\n",
       "      <td>0.0</td>\n",
       "      <td>wxleyezf</td>\n",
       "      <td>emcorrxb</td>\n",
       "      <td>0</td>\n",
       "      <td>0</td>\n",
       "    </tr>\n",
       "  </tbody>\n",
       "</table>\n",
       "<p>5 rows × 37 columns</p>\n",
       "</div>"
      ],
      "text/plain": [
       "               h1n1_concern  h1n1_knowledge  behavioral_antiviral_meds  \\\n",
       "respondent_id                                                            \n",
       "0                       1.0             0.0                        0.0   \n",
       "1                       3.0             2.0                        0.0   \n",
       "2                       1.0             1.0                        0.0   \n",
       "3                       1.0             1.0                        0.0   \n",
       "4                       2.0             1.0                        0.0   \n",
       "\n",
       "               behavioral_avoidance  behavioral_face_mask  \\\n",
       "respondent_id                                               \n",
       "0                               0.0                   0.0   \n",
       "1                               1.0                   0.0   \n",
       "2                               1.0                   0.0   \n",
       "3                               1.0                   0.0   \n",
       "4                               1.0                   0.0   \n",
       "\n",
       "               behavioral_wash_hands  behavioral_large_gatherings  \\\n",
       "respondent_id                                                       \n",
       "0                                0.0                          0.0   \n",
       "1                                1.0                          0.0   \n",
       "2                                0.0                          0.0   \n",
       "3                                1.0                          1.0   \n",
       "4                                1.0                          1.0   \n",
       "\n",
       "               behavioral_outside_home  behavioral_touch_face  \\\n",
       "respondent_id                                                   \n",
       "0                                  1.0                    1.0   \n",
       "1                                  1.0                    1.0   \n",
       "2                                  0.0                    0.0   \n",
       "3                                  0.0                    0.0   \n",
       "4                                  0.0                    1.0   \n",
       "\n",
       "               doctor_recc_h1n1  ...  rent_or_own   employment_status  \\\n",
       "respondent_id                    ...                                    \n",
       "0                           0.0  ...          Own  Not in Labor Force   \n",
       "1                           0.0  ...         Rent            Employed   \n",
       "2                           NaN  ...          Own            Employed   \n",
       "3                           0.0  ...         Rent  Not in Labor Force   \n",
       "4                           0.0  ...          Own            Employed   \n",
       "\n",
       "               hhs_geo_region                census_msa  household_adults  \\\n",
       "respondent_id                                                               \n",
       "0                    oxchjgsf                   Non-MSA               0.0   \n",
       "1                    bhuqouqj  MSA, Not Principle  City               0.0   \n",
       "2                    qufhixun  MSA, Not Principle  City               2.0   \n",
       "3                    lrircsnp       MSA, Principle City               0.0   \n",
       "4                    qufhixun  MSA, Not Principle  City               1.0   \n",
       "\n",
       "               household_children  employment_industry  employment_occupation  \\\n",
       "respondent_id                                                                   \n",
       "0                             0.0                  NaN                    NaN   \n",
       "1                             0.0             pxcmvdjn               xgwztkwe   \n",
       "2                             0.0             rucpziij               xtkaffoo   \n",
       "3                             0.0                  NaN                    NaN   \n",
       "4                             0.0             wxleyezf               emcorrxb   \n",
       "\n",
       "               h1n1_vaccine  seasonal_vaccine  \n",
       "respondent_id                                  \n",
       "0                         0                 0  \n",
       "1                         0                 1  \n",
       "2                         0                 0  \n",
       "3                         0                 1  \n",
       "4                         0                 0  \n",
       "\n",
       "[5 rows x 37 columns]"
      ]
     },
     "execution_count": 6,
     "metadata": {},
     "output_type": "execute_result"
    }
   ],
   "source": [
    "# merging training_set_features and training_set_labels into one df\n",
    "h1n1_data = pd.concat([training_set_feat, training_set_labels], axis=1) \n",
    "h1n1_data.head()"
   ]
  },
  {
   "cell_type": "code",
   "execution_count": 7,
   "metadata": {},
   "outputs": [
    {
     "name": "stdout",
     "output_type": "stream",
     "text": [
      "<class 'pandas.core.frame.DataFrame'>\n",
      "Int64Index: 26707 entries, 0 to 26706\n",
      "Data columns (total 37 columns):\n",
      " #   Column                       Non-Null Count  Dtype  \n",
      "---  ------                       --------------  -----  \n",
      " 0   h1n1_concern                 26615 non-null  float64\n",
      " 1   h1n1_knowledge               26591 non-null  float64\n",
      " 2   behavioral_antiviral_meds    26636 non-null  float64\n",
      " 3   behavioral_avoidance         26499 non-null  float64\n",
      " 4   behavioral_face_mask         26688 non-null  float64\n",
      " 5   behavioral_wash_hands        26665 non-null  float64\n",
      " 6   behavioral_large_gatherings  26620 non-null  float64\n",
      " 7   behavioral_outside_home      26625 non-null  float64\n",
      " 8   behavioral_touch_face        26579 non-null  float64\n",
      " 9   doctor_recc_h1n1             24547 non-null  float64\n",
      " 10  doctor_recc_seasonal         24547 non-null  float64\n",
      " 11  chronic_med_condition        25736 non-null  float64\n",
      " 12  child_under_6_months         25887 non-null  float64\n",
      " 13  health_worker                25903 non-null  float64\n",
      " 14  health_insurance             14433 non-null  float64\n",
      " 15  opinion_h1n1_vacc_effective  26316 non-null  float64\n",
      " 16  opinion_h1n1_risk            26319 non-null  float64\n",
      " 17  opinion_h1n1_sick_from_vacc  26312 non-null  float64\n",
      " 18  opinion_seas_vacc_effective  26245 non-null  float64\n",
      " 19  opinion_seas_risk            26193 non-null  float64\n",
      " 20  opinion_seas_sick_from_vacc  26170 non-null  float64\n",
      " 21  age_group                    26707 non-null  object \n",
      " 22  education                    25300 non-null  object \n",
      " 23  race                         26707 non-null  object \n",
      " 24  sex                          26707 non-null  object \n",
      " 25  income_poverty               22284 non-null  object \n",
      " 26  marital_status               25299 non-null  object \n",
      " 27  rent_or_own                  24665 non-null  object \n",
      " 28  employment_status            25244 non-null  object \n",
      " 29  hhs_geo_region               26707 non-null  object \n",
      " 30  census_msa                   26707 non-null  object \n",
      " 31  household_adults             26458 non-null  float64\n",
      " 32  household_children           26458 non-null  float64\n",
      " 33  employment_industry          13377 non-null  object \n",
      " 34  employment_occupation        13237 non-null  object \n",
      " 35  h1n1_vaccine                 26707 non-null  int64  \n",
      " 36  seasonal_vaccine             26707 non-null  int64  \n",
      "dtypes: float64(23), int64(2), object(12)\n",
      "memory usage: 7.7+ MB\n"
     ]
    }
   ],
   "source": [
    "h1n1_data.info()"
   ]
  },
  {
   "cell_type": "markdown",
   "metadata": {},
   "source": [
    "We can see from <b>.head()</b> and <b>.info()</b> that the merge was successful. Now, let's go ahead and get rid of any columns that have too many null values. Threshold-wise, I will drop any column that is composed of <b>more than 5% null values</b>."
   ]
  },
  {
   "cell_type": "code",
   "execution_count": 8,
   "metadata": {},
   "outputs": [
    {
     "name": "stdout",
     "output_type": "stream",
     "text": [
      "<class 'pandas.core.frame.DataFrame'>\n",
      "Int64Index: 26707 entries, 0 to 26706\n",
      "Data columns (total 27 columns):\n",
      " #   Column                       Non-Null Count  Dtype  \n",
      "---  ------                       --------------  -----  \n",
      " 0   h1n1_concern                 26615 non-null  float64\n",
      " 1   h1n1_knowledge               26591 non-null  float64\n",
      " 2   behavioral_antiviral_meds    26636 non-null  float64\n",
      " 3   behavioral_avoidance         26499 non-null  float64\n",
      " 4   behavioral_face_mask         26688 non-null  float64\n",
      " 5   behavioral_wash_hands        26665 non-null  float64\n",
      " 6   behavioral_large_gatherings  26620 non-null  float64\n",
      " 7   behavioral_outside_home      26625 non-null  float64\n",
      " 8   behavioral_touch_face        26579 non-null  float64\n",
      " 9   chronic_med_condition        25736 non-null  float64\n",
      " 10  child_under_6_months         25887 non-null  float64\n",
      " 11  health_worker                25903 non-null  float64\n",
      " 12  opinion_h1n1_vacc_effective  26316 non-null  float64\n",
      " 13  opinion_h1n1_risk            26319 non-null  float64\n",
      " 14  opinion_h1n1_sick_from_vacc  26312 non-null  float64\n",
      " 15  opinion_seas_vacc_effective  26245 non-null  float64\n",
      " 16  opinion_seas_risk            26193 non-null  float64\n",
      " 17  opinion_seas_sick_from_vacc  26170 non-null  float64\n",
      " 18  age_group                    26707 non-null  object \n",
      " 19  race                         26707 non-null  object \n",
      " 20  sex                          26707 non-null  object \n",
      " 21  hhs_geo_region               26707 non-null  object \n",
      " 22  census_msa                   26707 non-null  object \n",
      " 23  household_adults             26458 non-null  float64\n",
      " 24  household_children           26458 non-null  float64\n",
      " 25  h1n1_vaccine                 26707 non-null  int64  \n",
      " 26  seasonal_vaccine             26707 non-null  int64  \n",
      "dtypes: float64(20), int64(2), object(5)\n",
      "memory usage: 5.7+ MB\n"
     ]
    }
   ],
   "source": [
    "# getting rid of columns where more than 5% of the data are null values\n",
    "threshold = len(h1n1_data) * 0.95\n",
    "h1n1_data.dropna(thresh=threshold, axis=1, inplace=True)\n",
    "h1n1_data.info()"
   ]
  },
  {
   "cell_type": "markdown",
   "metadata": {},
   "source": [
    "Now that we have gotten rid of columns that are more than 5% null values, we can clean the dataframe further by taking care of any remaining columns that have to do with the <b>seasonal_vaccine</b>, since our focus for the project is the <b>h1n1_vaccine</b>."
   ]
  },
  {
   "cell_type": "code",
   "execution_count": 9,
   "metadata": {},
   "outputs": [
    {
     "name": "stdout",
     "output_type": "stream",
     "text": [
      "<class 'pandas.core.frame.DataFrame'>\n",
      "Int64Index: 26707 entries, 0 to 26706\n",
      "Data columns (total 23 columns):\n",
      " #   Column                       Non-Null Count  Dtype  \n",
      "---  ------                       --------------  -----  \n",
      " 0   h1n1_concern                 26615 non-null  float64\n",
      " 1   h1n1_knowledge               26591 non-null  float64\n",
      " 2   behavioral_antiviral_meds    26636 non-null  float64\n",
      " 3   behavioral_avoidance         26499 non-null  float64\n",
      " 4   behavioral_face_mask         26688 non-null  float64\n",
      " 5   behavioral_wash_hands        26665 non-null  float64\n",
      " 6   behavioral_large_gatherings  26620 non-null  float64\n",
      " 7   behavioral_outside_home      26625 non-null  float64\n",
      " 8   behavioral_touch_face        26579 non-null  float64\n",
      " 9   chronic_med_condition        25736 non-null  float64\n",
      " 10  child_under_6_months         25887 non-null  float64\n",
      " 11  health_worker                25903 non-null  float64\n",
      " 12  opinion_h1n1_vacc_effective  26316 non-null  float64\n",
      " 13  opinion_h1n1_risk            26319 non-null  float64\n",
      " 14  opinion_h1n1_sick_from_vacc  26312 non-null  float64\n",
      " 15  age_group                    26707 non-null  object \n",
      " 16  race                         26707 non-null  object \n",
      " 17  sex                          26707 non-null  object \n",
      " 18  hhs_geo_region               26707 non-null  object \n",
      " 19  census_msa                   26707 non-null  object \n",
      " 20  household_adults             26458 non-null  float64\n",
      " 21  household_children           26458 non-null  float64\n",
      " 22  h1n1_vaccine                 26707 non-null  int64  \n",
      "dtypes: float64(17), int64(1), object(5)\n",
      "memory usage: 4.9+ MB\n"
     ]
    }
   ],
   "source": [
    "# dropping columns that are relevant to only the seasonal_vaccine target\n",
    "h1n1_data.drop(['opinion_seas_vacc_effective',\n",
    "                'opinion_seas_risk',\n",
    "                'opinion_seas_sick_from_vacc',\n",
    "                'seasonal_vaccine'], \n",
    "                axis=1, \n",
    "                inplace=True)\n",
    "h1n1_data.info()"
   ]
  },
  {
   "cell_type": "markdown",
   "metadata": {},
   "source": [
    "From <b>.info()</b>, we see that there are still quite a few columns with missing values. We can take care of the remaining null values by applying the <b>.dropna()</b> method. This will get rid of any rows that house null values. "
   ]
  },
  {
   "cell_type": "code",
   "execution_count": 10,
   "metadata": {},
   "outputs": [
    {
     "name": "stdout",
     "output_type": "stream",
     "text": [
      "<class 'pandas.core.frame.DataFrame'>\n",
      "Int64Index: 24828 entries, 0 to 26706\n",
      "Data columns (total 23 columns):\n",
      " #   Column                       Non-Null Count  Dtype  \n",
      "---  ------                       --------------  -----  \n",
      " 0   h1n1_concern                 24828 non-null  float64\n",
      " 1   h1n1_knowledge               24828 non-null  float64\n",
      " 2   behavioral_antiviral_meds    24828 non-null  float64\n",
      " 3   behavioral_avoidance         24828 non-null  float64\n",
      " 4   behavioral_face_mask         24828 non-null  float64\n",
      " 5   behavioral_wash_hands        24828 non-null  float64\n",
      " 6   behavioral_large_gatherings  24828 non-null  float64\n",
      " 7   behavioral_outside_home      24828 non-null  float64\n",
      " 8   behavioral_touch_face        24828 non-null  float64\n",
      " 9   chronic_med_condition        24828 non-null  float64\n",
      " 10  child_under_6_months         24828 non-null  float64\n",
      " 11  health_worker                24828 non-null  float64\n",
      " 12  opinion_h1n1_vacc_effective  24828 non-null  float64\n",
      " 13  opinion_h1n1_risk            24828 non-null  float64\n",
      " 14  opinion_h1n1_sick_from_vacc  24828 non-null  float64\n",
      " 15  age_group                    24828 non-null  object \n",
      " 16  race                         24828 non-null  object \n",
      " 17  sex                          24828 non-null  object \n",
      " 18  hhs_geo_region               24828 non-null  object \n",
      " 19  census_msa                   24828 non-null  object \n",
      " 20  household_adults             24828 non-null  float64\n",
      " 21  household_children           24828 non-null  float64\n",
      " 22  h1n1_vaccine                 24828 non-null  int64  \n",
      "dtypes: float64(17), int64(1), object(5)\n",
      "memory usage: 4.5+ MB\n"
     ]
    }
   ],
   "source": [
    "# dropping any remaining null values\n",
    "h1n1_data.dropna(inplace=True)\n",
    "h1n1_data.info()"
   ]
  },
  {
   "cell_type": "markdown",
   "metadata": {},
   "source": [
    "Now that the dataframe consists of the columns we want and has no null values, the next step is to take care of the columns of object dtype. From <b>.info()</b>, we see that these are <b>age_group</b>, <b>race</b>, <b>sex</b>, <b>hhs_geo_region</b>, and <b>census_msa</b>. Let's take a closer look at these columns using the <b>.value_counts()</b> method to see whether they are binary or have multiple categories."
   ]
  },
  {
   "cell_type": "code",
   "execution_count": 11,
   "metadata": {},
   "outputs": [
    {
     "name": "stdout",
     "output_type": "stream",
     "text": [
      "65+ Years        6217\n",
      "55 - 64 Years    5230\n",
      "45 - 54 Years    4928\n",
      "18 - 34 Years    4864\n",
      "35 - 44 Years    3589\n",
      "Name: age_group, dtype: int64\n",
      "...\n",
      "White                19774\n",
      "Black                 1936\n",
      "Hispanic              1660\n",
      "Other or Multiple     1458\n",
      "Name: race, dtype: int64\n",
      "...\n",
      "Female    14807\n",
      "Male      10021\n",
      "Name: sex, dtype: int64\n",
      "...\n",
      "lzgpxyit    3952\n",
      "fpwskwrf    3005\n",
      "qufhixun    2918\n",
      "oxchjgsf    2683\n",
      "bhuqouqj    2675\n",
      "kbazzjca    2645\n",
      "mlyzmhmf    2078\n",
      "lrircsnp    1926\n",
      "atmpeygn    1922\n",
      "dqpwygqj    1024\n",
      "Name: hhs_geo_region, dtype: int64\n",
      "...\n",
      "MSA, Not Principle  City    10860\n",
      "MSA, Principle City          7234\n",
      "Non-MSA                      6734\n",
      "Name: census_msa, dtype: int64\n"
     ]
    }
   ],
   "source": [
    "# looking at columns of object dtype to see if they are binary or have multiple categories\n",
    "print(h1n1_data['age_group'].value_counts())\n",
    "print('...')\n",
    "print(h1n1_data['race'].value_counts())\n",
    "print('...')\n",
    "print(h1n1_data['sex'].value_counts())\n",
    "print('...')\n",
    "print(h1n1_data['hhs_geo_region'].value_counts())\n",
    "print('...')\n",
    "print(h1n1_data['census_msa'].value_counts())"
   ]
  },
  {
   "cell_type": "markdown",
   "metadata": {},
   "source": [
    "From <b>.value_counts()</b>, we see that all of the object columns have multiple categories, except for <b>sex</b>, which is binary. Because the <b>sex</b> column is binary, we can use <b>OrdinalEncoder</b> from <b>sklearn.preprocessing</b> to transform it. "
   ]
  },
  {
   "cell_type": "code",
   "execution_count": 12,
   "metadata": {},
   "outputs": [
    {
     "data": {
      "text/html": [
       "<div>\n",
       "<style scoped>\n",
       "    .dataframe tbody tr th:only-of-type {\n",
       "        vertical-align: middle;\n",
       "    }\n",
       "\n",
       "    .dataframe tbody tr th {\n",
       "        vertical-align: top;\n",
       "    }\n",
       "\n",
       "    .dataframe thead th {\n",
       "        text-align: right;\n",
       "    }\n",
       "</style>\n",
       "<table border=\"1\" class=\"dataframe\">\n",
       "  <thead>\n",
       "    <tr style=\"text-align: right;\">\n",
       "      <th></th>\n",
       "      <th>h1n1_concern</th>\n",
       "      <th>h1n1_knowledge</th>\n",
       "      <th>behavioral_antiviral_meds</th>\n",
       "      <th>behavioral_avoidance</th>\n",
       "      <th>behavioral_face_mask</th>\n",
       "      <th>behavioral_wash_hands</th>\n",
       "      <th>behavioral_large_gatherings</th>\n",
       "      <th>behavioral_outside_home</th>\n",
       "      <th>behavioral_touch_face</th>\n",
       "      <th>chronic_med_condition</th>\n",
       "      <th>...</th>\n",
       "      <th>opinion_h1n1_risk</th>\n",
       "      <th>opinion_h1n1_sick_from_vacc</th>\n",
       "      <th>age_group</th>\n",
       "      <th>race</th>\n",
       "      <th>sex</th>\n",
       "      <th>hhs_geo_region</th>\n",
       "      <th>census_msa</th>\n",
       "      <th>household_adults</th>\n",
       "      <th>household_children</th>\n",
       "      <th>h1n1_vaccine</th>\n",
       "    </tr>\n",
       "    <tr>\n",
       "      <th>respondent_id</th>\n",
       "      <th></th>\n",
       "      <th></th>\n",
       "      <th></th>\n",
       "      <th></th>\n",
       "      <th></th>\n",
       "      <th></th>\n",
       "      <th></th>\n",
       "      <th></th>\n",
       "      <th></th>\n",
       "      <th></th>\n",
       "      <th></th>\n",
       "      <th></th>\n",
       "      <th></th>\n",
       "      <th></th>\n",
       "      <th></th>\n",
       "      <th></th>\n",
       "      <th></th>\n",
       "      <th></th>\n",
       "      <th></th>\n",
       "      <th></th>\n",
       "      <th></th>\n",
       "    </tr>\n",
       "  </thead>\n",
       "  <tbody>\n",
       "    <tr>\n",
       "      <th>0</th>\n",
       "      <td>1.0</td>\n",
       "      <td>0.0</td>\n",
       "      <td>0.0</td>\n",
       "      <td>0.0</td>\n",
       "      <td>0.0</td>\n",
       "      <td>0.0</td>\n",
       "      <td>0.0</td>\n",
       "      <td>1.0</td>\n",
       "      <td>1.0</td>\n",
       "      <td>0.0</td>\n",
       "      <td>...</td>\n",
       "      <td>1.0</td>\n",
       "      <td>2.0</td>\n",
       "      <td>55 - 64 Years</td>\n",
       "      <td>White</td>\n",
       "      <td>0.0</td>\n",
       "      <td>oxchjgsf</td>\n",
       "      <td>Non-MSA</td>\n",
       "      <td>0.0</td>\n",
       "      <td>0.0</td>\n",
       "      <td>0</td>\n",
       "    </tr>\n",
       "    <tr>\n",
       "      <th>1</th>\n",
       "      <td>3.0</td>\n",
       "      <td>2.0</td>\n",
       "      <td>0.0</td>\n",
       "      <td>1.0</td>\n",
       "      <td>0.0</td>\n",
       "      <td>1.0</td>\n",
       "      <td>0.0</td>\n",
       "      <td>1.0</td>\n",
       "      <td>1.0</td>\n",
       "      <td>0.0</td>\n",
       "      <td>...</td>\n",
       "      <td>4.0</td>\n",
       "      <td>4.0</td>\n",
       "      <td>35 - 44 Years</td>\n",
       "      <td>White</td>\n",
       "      <td>1.0</td>\n",
       "      <td>bhuqouqj</td>\n",
       "      <td>MSA, Not Principle  City</td>\n",
       "      <td>0.0</td>\n",
       "      <td>0.0</td>\n",
       "      <td>0</td>\n",
       "    </tr>\n",
       "    <tr>\n",
       "      <th>2</th>\n",
       "      <td>1.0</td>\n",
       "      <td>1.0</td>\n",
       "      <td>0.0</td>\n",
       "      <td>1.0</td>\n",
       "      <td>0.0</td>\n",
       "      <td>0.0</td>\n",
       "      <td>0.0</td>\n",
       "      <td>0.0</td>\n",
       "      <td>0.0</td>\n",
       "      <td>1.0</td>\n",
       "      <td>...</td>\n",
       "      <td>1.0</td>\n",
       "      <td>1.0</td>\n",
       "      <td>18 - 34 Years</td>\n",
       "      <td>White</td>\n",
       "      <td>1.0</td>\n",
       "      <td>qufhixun</td>\n",
       "      <td>MSA, Not Principle  City</td>\n",
       "      <td>2.0</td>\n",
       "      <td>0.0</td>\n",
       "      <td>0</td>\n",
       "    </tr>\n",
       "    <tr>\n",
       "      <th>3</th>\n",
       "      <td>1.0</td>\n",
       "      <td>1.0</td>\n",
       "      <td>0.0</td>\n",
       "      <td>1.0</td>\n",
       "      <td>0.0</td>\n",
       "      <td>1.0</td>\n",
       "      <td>1.0</td>\n",
       "      <td>0.0</td>\n",
       "      <td>0.0</td>\n",
       "      <td>1.0</td>\n",
       "      <td>...</td>\n",
       "      <td>3.0</td>\n",
       "      <td>5.0</td>\n",
       "      <td>65+ Years</td>\n",
       "      <td>White</td>\n",
       "      <td>0.0</td>\n",
       "      <td>lrircsnp</td>\n",
       "      <td>MSA, Principle City</td>\n",
       "      <td>0.0</td>\n",
       "      <td>0.0</td>\n",
       "      <td>0</td>\n",
       "    </tr>\n",
       "    <tr>\n",
       "      <th>4</th>\n",
       "      <td>2.0</td>\n",
       "      <td>1.0</td>\n",
       "      <td>0.0</td>\n",
       "      <td>1.0</td>\n",
       "      <td>0.0</td>\n",
       "      <td>1.0</td>\n",
       "      <td>1.0</td>\n",
       "      <td>0.0</td>\n",
       "      <td>1.0</td>\n",
       "      <td>0.0</td>\n",
       "      <td>...</td>\n",
       "      <td>3.0</td>\n",
       "      <td>2.0</td>\n",
       "      <td>45 - 54 Years</td>\n",
       "      <td>White</td>\n",
       "      <td>0.0</td>\n",
       "      <td>qufhixun</td>\n",
       "      <td>MSA, Not Principle  City</td>\n",
       "      <td>1.0</td>\n",
       "      <td>0.0</td>\n",
       "      <td>0</td>\n",
       "    </tr>\n",
       "  </tbody>\n",
       "</table>\n",
       "<p>5 rows × 23 columns</p>\n",
       "</div>"
      ],
      "text/plain": [
       "               h1n1_concern  h1n1_knowledge  behavioral_antiviral_meds  \\\n",
       "respondent_id                                                            \n",
       "0                       1.0             0.0                        0.0   \n",
       "1                       3.0             2.0                        0.0   \n",
       "2                       1.0             1.0                        0.0   \n",
       "3                       1.0             1.0                        0.0   \n",
       "4                       2.0             1.0                        0.0   \n",
       "\n",
       "               behavioral_avoidance  behavioral_face_mask  \\\n",
       "respondent_id                                               \n",
       "0                               0.0                   0.0   \n",
       "1                               1.0                   0.0   \n",
       "2                               1.0                   0.0   \n",
       "3                               1.0                   0.0   \n",
       "4                               1.0                   0.0   \n",
       "\n",
       "               behavioral_wash_hands  behavioral_large_gatherings  \\\n",
       "respondent_id                                                       \n",
       "0                                0.0                          0.0   \n",
       "1                                1.0                          0.0   \n",
       "2                                0.0                          0.0   \n",
       "3                                1.0                          1.0   \n",
       "4                                1.0                          1.0   \n",
       "\n",
       "               behavioral_outside_home  behavioral_touch_face  \\\n",
       "respondent_id                                                   \n",
       "0                                  1.0                    1.0   \n",
       "1                                  1.0                    1.0   \n",
       "2                                  0.0                    0.0   \n",
       "3                                  0.0                    0.0   \n",
       "4                                  0.0                    1.0   \n",
       "\n",
       "               chronic_med_condition  ...  opinion_h1n1_risk  \\\n",
       "respondent_id                         ...                      \n",
       "0                                0.0  ...                1.0   \n",
       "1                                0.0  ...                4.0   \n",
       "2                                1.0  ...                1.0   \n",
       "3                                1.0  ...                3.0   \n",
       "4                                0.0  ...                3.0   \n",
       "\n",
       "               opinion_h1n1_sick_from_vacc      age_group   race  sex  \\\n",
       "respondent_id                                                           \n",
       "0                                      2.0  55 - 64 Years  White  0.0   \n",
       "1                                      4.0  35 - 44 Years  White  1.0   \n",
       "2                                      1.0  18 - 34 Years  White  1.0   \n",
       "3                                      5.0      65+ Years  White  0.0   \n",
       "4                                      2.0  45 - 54 Years  White  0.0   \n",
       "\n",
       "              hhs_geo_region                census_msa  household_adults  \\\n",
       "respondent_id                                                              \n",
       "0                   oxchjgsf                   Non-MSA               0.0   \n",
       "1                   bhuqouqj  MSA, Not Principle  City               0.0   \n",
       "2                   qufhixun  MSA, Not Principle  City               2.0   \n",
       "3                   lrircsnp       MSA, Principle City               0.0   \n",
       "4                   qufhixun  MSA, Not Principle  City               1.0   \n",
       "\n",
       "              household_children h1n1_vaccine  \n",
       "respondent_id                                  \n",
       "0                            0.0            0  \n",
       "1                            0.0            0  \n",
       "2                            0.0            0  \n",
       "3                            0.0            0  \n",
       "4                            0.0            0  \n",
       "\n",
       "[5 rows x 23 columns]"
      ]
     },
     "execution_count": 12,
     "metadata": {},
     "output_type": "execute_result"
    }
   ],
   "source": [
    "# transforming sex col using OrdinalEncoder\n",
    "from sklearn.preprocessing import OrdinalEncoder\n",
    "\n",
    "sex_train = h1n1_data[['sex']]\n",
    "encoder_sex = OrdinalEncoder()\n",
    "encoder_sex.fit(sex_train)\n",
    "sex_encoded_train = encoder_sex.transform(sex_train)\n",
    "sex_encoded_train = sex_encoded_train.flatten()\n",
    "h1n1_data['sex'] = sex_encoded_train\n",
    "h1n1_data.head()"
   ]
  },
  {
   "cell_type": "markdown",
   "metadata": {},
   "source": [
    "From <b>.head()</b>, we can see that the <b>sex</b> column was successfully converted. For the other four columns with multiple categories, we can deploy <b>OneHotEncoder</b> from the same sklearn package as <b>OrdinalEncoder</b>. Because there are four columns that need to be taken care of, the most efficient approach is to create a dataframe for the columns of interest first."
   ]
  },
  {
   "cell_type": "code",
   "execution_count": 13,
   "metadata": {},
   "outputs": [],
   "source": [
    "# Code source: <https://stackoverflow.com/questions/68349266/how-to-create-a-for-loop-for-onehotencoder>\n",
    "\n",
    "# transforming age_group, race, hhs_geo_region, and census_msa using OneHotEncoder\n",
    "\n",
    "categorical_cols = ['age_group', 'race', 'hhs_geo_region', 'census_msa']\n",
    "\n",
    "from sklearn.preprocessing import LabelEncoder\n",
    "# instantiate labelencoder object\n",
    "le = LabelEncoder()\n",
    "\n",
    "# apply le on categorical feature columns\n",
    "h1n1_data[categorical_cols] = h1n1_data[categorical_cols].apply(lambda col: le.fit_transform(col)) \n",
    "\n",
    "from sklearn.preprocessing import OneHotEncoder\n",
    "ohe = OneHotEncoder()\n",
    "\n",
    "# one-hot-encode the categorical columns\n",
    "# outputs an array instead of dataframe\n",
    "array_hot_encoded = ohe.fit_transform(h1n1_data[categorical_cols])\n",
    "\n",
    "# convert to dataframe\n",
    "data_hot_encoded = pd.DataFrame(array_hot_encoded, index=h1n1_data.index)\n",
    "\n",
    "# extract only the columns that are numeric and don't need to be encoded\n",
    "data_numeric_cols = h1n1_data.drop(columns=categorical_cols)\n",
    "\n",
    "# concatenate the two dataframes \n",
    "data_out = pd.concat([data_hot_encoded, data_numeric_cols], axis=1)"
   ]
  },
  {
   "cell_type": "code",
   "execution_count": 14,
   "metadata": {},
   "outputs": [
    {
     "data": {
      "text/html": [
       "<div>\n",
       "<style scoped>\n",
       "    .dataframe tbody tr th:only-of-type {\n",
       "        vertical-align: middle;\n",
       "    }\n",
       "\n",
       "    .dataframe tbody tr th {\n",
       "        vertical-align: top;\n",
       "    }\n",
       "\n",
       "    .dataframe thead th {\n",
       "        text-align: right;\n",
       "    }\n",
       "</style>\n",
       "<table border=\"1\" class=\"dataframe\">\n",
       "  <thead>\n",
       "    <tr style=\"text-align: right;\">\n",
       "      <th></th>\n",
       "      <th>h1n1_concern</th>\n",
       "      <th>h1n1_knowledge</th>\n",
       "      <th>behavioral_antiviral_meds</th>\n",
       "      <th>behavioral_avoidance</th>\n",
       "      <th>behavioral_face_mask</th>\n",
       "      <th>behavioral_wash_hands</th>\n",
       "      <th>behavioral_large_gatherings</th>\n",
       "      <th>behavioral_outside_home</th>\n",
       "      <th>behavioral_touch_face</th>\n",
       "      <th>chronic_med_condition</th>\n",
       "      <th>...</th>\n",
       "      <th>opinion_h1n1_risk</th>\n",
       "      <th>opinion_h1n1_sick_from_vacc</th>\n",
       "      <th>age_group</th>\n",
       "      <th>race</th>\n",
       "      <th>sex</th>\n",
       "      <th>hhs_geo_region</th>\n",
       "      <th>census_msa</th>\n",
       "      <th>household_adults</th>\n",
       "      <th>household_children</th>\n",
       "      <th>h1n1_vaccine</th>\n",
       "    </tr>\n",
       "    <tr>\n",
       "      <th>respondent_id</th>\n",
       "      <th></th>\n",
       "      <th></th>\n",
       "      <th></th>\n",
       "      <th></th>\n",
       "      <th></th>\n",
       "      <th></th>\n",
       "      <th></th>\n",
       "      <th></th>\n",
       "      <th></th>\n",
       "      <th></th>\n",
       "      <th></th>\n",
       "      <th></th>\n",
       "      <th></th>\n",
       "      <th></th>\n",
       "      <th></th>\n",
       "      <th></th>\n",
       "      <th></th>\n",
       "      <th></th>\n",
       "      <th></th>\n",
       "      <th></th>\n",
       "      <th></th>\n",
       "    </tr>\n",
       "  </thead>\n",
       "  <tbody>\n",
       "    <tr>\n",
       "      <th>0</th>\n",
       "      <td>1.0</td>\n",
       "      <td>0.0</td>\n",
       "      <td>0.0</td>\n",
       "      <td>0.0</td>\n",
       "      <td>0.0</td>\n",
       "      <td>0.0</td>\n",
       "      <td>0.0</td>\n",
       "      <td>1.0</td>\n",
       "      <td>1.0</td>\n",
       "      <td>0.0</td>\n",
       "      <td>...</td>\n",
       "      <td>1.0</td>\n",
       "      <td>2.0</td>\n",
       "      <td>3</td>\n",
       "      <td>3</td>\n",
       "      <td>0.0</td>\n",
       "      <td>8</td>\n",
       "      <td>2</td>\n",
       "      <td>0.0</td>\n",
       "      <td>0.0</td>\n",
       "      <td>0</td>\n",
       "    </tr>\n",
       "    <tr>\n",
       "      <th>1</th>\n",
       "      <td>3.0</td>\n",
       "      <td>2.0</td>\n",
       "      <td>0.0</td>\n",
       "      <td>1.0</td>\n",
       "      <td>0.0</td>\n",
       "      <td>1.0</td>\n",
       "      <td>0.0</td>\n",
       "      <td>1.0</td>\n",
       "      <td>1.0</td>\n",
       "      <td>0.0</td>\n",
       "      <td>...</td>\n",
       "      <td>4.0</td>\n",
       "      <td>4.0</td>\n",
       "      <td>1</td>\n",
       "      <td>3</td>\n",
       "      <td>1.0</td>\n",
       "      <td>1</td>\n",
       "      <td>0</td>\n",
       "      <td>0.0</td>\n",
       "      <td>0.0</td>\n",
       "      <td>0</td>\n",
       "    </tr>\n",
       "    <tr>\n",
       "      <th>2</th>\n",
       "      <td>1.0</td>\n",
       "      <td>1.0</td>\n",
       "      <td>0.0</td>\n",
       "      <td>1.0</td>\n",
       "      <td>0.0</td>\n",
       "      <td>0.0</td>\n",
       "      <td>0.0</td>\n",
       "      <td>0.0</td>\n",
       "      <td>0.0</td>\n",
       "      <td>1.0</td>\n",
       "      <td>...</td>\n",
       "      <td>1.0</td>\n",
       "      <td>1.0</td>\n",
       "      <td>0</td>\n",
       "      <td>3</td>\n",
       "      <td>1.0</td>\n",
       "      <td>9</td>\n",
       "      <td>0</td>\n",
       "      <td>2.0</td>\n",
       "      <td>0.0</td>\n",
       "      <td>0</td>\n",
       "    </tr>\n",
       "    <tr>\n",
       "      <th>3</th>\n",
       "      <td>1.0</td>\n",
       "      <td>1.0</td>\n",
       "      <td>0.0</td>\n",
       "      <td>1.0</td>\n",
       "      <td>0.0</td>\n",
       "      <td>1.0</td>\n",
       "      <td>1.0</td>\n",
       "      <td>0.0</td>\n",
       "      <td>0.0</td>\n",
       "      <td>1.0</td>\n",
       "      <td>...</td>\n",
       "      <td>3.0</td>\n",
       "      <td>5.0</td>\n",
       "      <td>4</td>\n",
       "      <td>3</td>\n",
       "      <td>0.0</td>\n",
       "      <td>5</td>\n",
       "      <td>1</td>\n",
       "      <td>0.0</td>\n",
       "      <td>0.0</td>\n",
       "      <td>0</td>\n",
       "    </tr>\n",
       "    <tr>\n",
       "      <th>4</th>\n",
       "      <td>2.0</td>\n",
       "      <td>1.0</td>\n",
       "      <td>0.0</td>\n",
       "      <td>1.0</td>\n",
       "      <td>0.0</td>\n",
       "      <td>1.0</td>\n",
       "      <td>1.0</td>\n",
       "      <td>0.0</td>\n",
       "      <td>1.0</td>\n",
       "      <td>0.0</td>\n",
       "      <td>...</td>\n",
       "      <td>3.0</td>\n",
       "      <td>2.0</td>\n",
       "      <td>2</td>\n",
       "      <td>3</td>\n",
       "      <td>0.0</td>\n",
       "      <td>9</td>\n",
       "      <td>0</td>\n",
       "      <td>1.0</td>\n",
       "      <td>0.0</td>\n",
       "      <td>0</td>\n",
       "    </tr>\n",
       "  </tbody>\n",
       "</table>\n",
       "<p>5 rows × 23 columns</p>\n",
       "</div>"
      ],
      "text/plain": [
       "               h1n1_concern  h1n1_knowledge  behavioral_antiviral_meds  \\\n",
       "respondent_id                                                            \n",
       "0                       1.0             0.0                        0.0   \n",
       "1                       3.0             2.0                        0.0   \n",
       "2                       1.0             1.0                        0.0   \n",
       "3                       1.0             1.0                        0.0   \n",
       "4                       2.0             1.0                        0.0   \n",
       "\n",
       "               behavioral_avoidance  behavioral_face_mask  \\\n",
       "respondent_id                                               \n",
       "0                               0.0                   0.0   \n",
       "1                               1.0                   0.0   \n",
       "2                               1.0                   0.0   \n",
       "3                               1.0                   0.0   \n",
       "4                               1.0                   0.0   \n",
       "\n",
       "               behavioral_wash_hands  behavioral_large_gatherings  \\\n",
       "respondent_id                                                       \n",
       "0                                0.0                          0.0   \n",
       "1                                1.0                          0.0   \n",
       "2                                0.0                          0.0   \n",
       "3                                1.0                          1.0   \n",
       "4                                1.0                          1.0   \n",
       "\n",
       "               behavioral_outside_home  behavioral_touch_face  \\\n",
       "respondent_id                                                   \n",
       "0                                  1.0                    1.0   \n",
       "1                                  1.0                    1.0   \n",
       "2                                  0.0                    0.0   \n",
       "3                                  0.0                    0.0   \n",
       "4                                  0.0                    1.0   \n",
       "\n",
       "               chronic_med_condition  ...  opinion_h1n1_risk  \\\n",
       "respondent_id                         ...                      \n",
       "0                                0.0  ...                1.0   \n",
       "1                                0.0  ...                4.0   \n",
       "2                                1.0  ...                1.0   \n",
       "3                                1.0  ...                3.0   \n",
       "4                                0.0  ...                3.0   \n",
       "\n",
       "               opinion_h1n1_sick_from_vacc  age_group  race  sex  \\\n",
       "respondent_id                                                      \n",
       "0                                      2.0          3     3  0.0   \n",
       "1                                      4.0          1     3  1.0   \n",
       "2                                      1.0          0     3  1.0   \n",
       "3                                      5.0          4     3  0.0   \n",
       "4                                      2.0          2     3  0.0   \n",
       "\n",
       "               hhs_geo_region  census_msa  household_adults  \\\n",
       "respondent_id                                                 \n",
       "0                           8           2               0.0   \n",
       "1                           1           0               0.0   \n",
       "2                           9           0               2.0   \n",
       "3                           5           1               0.0   \n",
       "4                           9           0               1.0   \n",
       "\n",
       "               household_children  h1n1_vaccine  \n",
       "respondent_id                                    \n",
       "0                             0.0             0  \n",
       "1                             0.0             0  \n",
       "2                             0.0             0  \n",
       "3                             0.0             0  \n",
       "4                             0.0             0  \n",
       "\n",
       "[5 rows x 23 columns]"
      ]
     },
     "execution_count": 14,
     "metadata": {},
     "output_type": "execute_result"
    }
   ],
   "source": [
    "h1n1_data.head()"
   ]
  },
  {
   "cell_type": "code",
   "execution_count": 15,
   "metadata": {},
   "outputs": [
    {
     "name": "stdout",
     "output_type": "stream",
     "text": [
      "<class 'pandas.core.frame.DataFrame'>\n",
      "Int64Index: 24828 entries, 0 to 26706\n",
      "Data columns (total 23 columns):\n",
      " #   Column                       Non-Null Count  Dtype  \n",
      "---  ------                       --------------  -----  \n",
      " 0   h1n1_concern                 24828 non-null  float64\n",
      " 1   h1n1_knowledge               24828 non-null  float64\n",
      " 2   behavioral_antiviral_meds    24828 non-null  float64\n",
      " 3   behavioral_avoidance         24828 non-null  float64\n",
      " 4   behavioral_face_mask         24828 non-null  float64\n",
      " 5   behavioral_wash_hands        24828 non-null  float64\n",
      " 6   behavioral_large_gatherings  24828 non-null  float64\n",
      " 7   behavioral_outside_home      24828 non-null  float64\n",
      " 8   behavioral_touch_face        24828 non-null  float64\n",
      " 9   chronic_med_condition        24828 non-null  float64\n",
      " 10  child_under_6_months         24828 non-null  float64\n",
      " 11  health_worker                24828 non-null  float64\n",
      " 12  opinion_h1n1_vacc_effective  24828 non-null  float64\n",
      " 13  opinion_h1n1_risk            24828 non-null  float64\n",
      " 14  opinion_h1n1_sick_from_vacc  24828 non-null  float64\n",
      " 15  age_group                    24828 non-null  int32  \n",
      " 16  race                         24828 non-null  int32  \n",
      " 17  sex                          24828 non-null  float64\n",
      " 18  hhs_geo_region               24828 non-null  int32  \n",
      " 19  census_msa                   24828 non-null  int32  \n",
      " 20  household_adults             24828 non-null  float64\n",
      " 21  household_children           24828 non-null  float64\n",
      " 22  h1n1_vaccine                 24828 non-null  int64  \n",
      "dtypes: float64(18), int32(4), int64(1)\n",
      "memory usage: 4.2 MB\n"
     ]
    }
   ],
   "source": [
    "h1n1_data.info()"
   ]
  },
  {
   "cell_type": "markdown",
   "metadata": {},
   "source": [
    "From <b>.head()</b> and <b>.info()</b>, we see that the four columns with multiple categories were one hot encoded properly. Another consideration that must be factored in is the possibility of <b>class imbalance</b>. We can preview this using the <b>.value_counts()</b> method."
   ]
  },
  {
   "cell_type": "code",
   "execution_count": 16,
   "metadata": {},
   "outputs": [
    {
     "data": {
      "text/plain": [
       "0    19513\n",
       "1     5315\n",
       "Name: h1n1_vaccine, dtype: int64"
      ]
     },
     "execution_count": 16,
     "metadata": {},
     "output_type": "execute_result"
    }
   ],
   "source": [
    "# previewing possible class imbalance\n",
    "h1n1_data['h1n1_vaccine'].value_counts()"
   ]
  },
  {
   "cell_type": "markdown",
   "metadata": {},
   "source": [
    "From <b>.value_counts()</b>, we can see that there is some slight class imbalance within the dataset. A '0' indicates that a person did not receive the H1N1 vaccine while a '1' means someone did get it. Based on the values for each binary indicator, we can see that about 80% of those surveyed did not get vaccinated against H1N1, while around 20% received the vaccine. Because the minority class makes up <b>more than 10%</b> of the dataset, I will consider there to be no imbalance issue that needs to be addressed. Now, we can begin the iterative modeling process."
   ]
  },
  {
   "cell_type": "markdown",
   "metadata": {},
   "source": [
    "## Iterative Modeling\n",
    "\n",
    "My plan for the iterative modeling process is to create multiple classifiers. I will generate a <b>single decision tree</b>, a <b>k-nearest neighbors (KNN)</b> model, and a <b>random forest</b>. For the model that performs the best, I will tune its hyperparameters using <b>GridSearchCV</b>. From there, I will make my final decision on the best classifier for the data. \n",
    "\n",
    "To start, we need to specify the target variable and the predictors. From there, we need to employ <b>train_test_split()</b> to split the <b>h1n1_data</b> into training and test sets. We will set <b>random_state=10</b> for reproducibility and do an <b>80/20</b> split."
   ]
  },
  {
   "cell_type": "code",
   "execution_count": 17,
   "metadata": {},
   "outputs": [],
   "source": [
    "# set target variable and predictors\n",
    "X = h1n1_data.drop('h1n1_vaccine', axis=1)\n",
    "y = h1n1_data['h1n1_vaccine']\n",
    "\n",
    "# perform train_test_split\n",
    "from sklearn.model_selection import train_test_split\n",
    "X_train, X_test, y_train, y_test = train_test_split(X, y, test_size=0.20, random_state=10)"
   ]
  },
  {
   "cell_type": "markdown",
   "metadata": {},
   "source": [
    "To be safe, we'll check for possible class imbalance again within the training and test sets."
   ]
  },
  {
   "cell_type": "code",
   "execution_count": 18,
   "metadata": {},
   "outputs": [
    {
     "name": "stdout",
     "output_type": "stream",
     "text": [
      "0    15608\n",
      "1     4254\n",
      "Name: h1n1_vaccine, dtype: int64\n",
      "0    3905\n",
      "1    1061\n",
      "Name: h1n1_vaccine, dtype: int64\n"
     ]
    }
   ],
   "source": [
    "# checking for class imbalance in training and test set\n",
    "print(y_train.value_counts())\n",
    "print(y_test.value_counts())"
   ]
  },
  {
   "cell_type": "markdown",
   "metadata": {},
   "source": [
    "From <b>.value_counts()</b>, we see that class imbalance isn't a problem for both the training and test sets."
   ]
  },
  {
   "cell_type": "markdown",
   "metadata": {},
   "source": [
    "## Model 1a: Baseline Decision Tree\n",
    "\n",
    "As mentioned previously, for my first model, I will make a <b>decision tree</b>. I will start with a <b>baseline decision tree</b> with default parameters, with the exception of <b>random_state=10</b> for reproducibility. Once the classifier is trained on the training data and used to predict the test data, I will evaluate its performance using <b>accuracy_score</b> and <b>AUC</b>. I will also generate a <b>confusion matrix</b> to get an understanding of correctly predicted values versus type 1 and type 2 errors. "
   ]
  },
  {
   "cell_type": "code",
   "execution_count": 19,
   "metadata": {},
   "outputs": [],
   "source": [
    "# train baseline decision tree classifier, then use it to predict test data\n",
    "\n",
    "from sklearn.tree import DecisionTreeClassifier\n",
    "\n",
    "# instantiate DecisionTreeClassifier with random_state=10\n",
    "dtree_baseline = DecisionTreeClassifier(random_state=10)\n",
    "\n",
    "# fit classifier to training data\n",
    "dtree_baseline.fit(X_train, y_train)\n",
    "\n",
    "# predict test data\n",
    "pred = dtree_baseline.predict(X_test) "
   ]
  },
  {
   "cell_type": "code",
   "execution_count": 20,
   "metadata": {},
   "outputs": [
    {
     "name": "stdout",
     "output_type": "stream",
     "text": [
      "Testing Accuracy for Baseline Decision Tree Classifier: 71.51%\n",
      "\n",
      "AUC is: 0.6\n"
     ]
    }
   ],
   "source": [
    "# calculate accuracy_score and AUC for test data to evaluate classifier performance\n",
    "\n",
    "from sklearn.metrics import accuracy_score, roc_curve, auc\n",
    "\n",
    "# print accuracy_score\n",
    "print(\"Testing Accuracy for Baseline Decision Tree Classifier: {:.4}%\".format(accuracy_score(y_test, pred) * 100))\n",
    "\n",
    "# check AUC for predictions\n",
    "false_positive_rate, true_positive_rate, thresholds = roc_curve(y_test, pred)\n",
    "roc_auc = auc(false_positive_rate, true_positive_rate)\n",
    "print('\\nAUC is: {0}'.format(round(roc_auc, 2)))"
   ]
  },
  {
   "cell_type": "code",
   "execution_count": 21,
   "metadata": {},
   "outputs": [
    {
     "data": {
      "image/png": "[encoded data removed]",
      "text/plain": [
       "<Figure size 432x288 with 2 Axes>"
      ]
     },
     "metadata": {
      "needs_background": "light"
     },
     "output_type": "display_data"
    }
   ],
   "source": [
    "# generate confusion matrix\n",
    "\n",
    "from sklearn.metrics import ConfusionMatrixDisplay, confusion_matrix\n",
    "import matplotlib.pyplot as plt\n",
    "\n",
    "cnf_matrix = confusion_matrix(y_test, pred)\n",
    "disp = ConfusionMatrixDisplay(confusion_matrix=cnf_matrix, display_labels=dtree_baseline.classes_)\n",
    "disp.plot(cmap=plt.cm.Blues);"
   ]
  },
  {
   "cell_type": "markdown",
   "metadata": {},
   "source": [
    "For the baseline decision tree, the performance metrics indicate that improvements can be made to the classifier. The testing <b>accuracy</b> is <b>only about 72%</b> and the <b>AUC</b> is only <b>0.6</b>. With AUC ranging between 0.0-1.0, a value of 0.5 means a model is worthless; an AUC of 0.6 is just slightly above this threshold. From the confusion matrix, we see that the classifier has many Type 1 and Type 2 errors, being 774 and 641, respectively, out of a test sample size of about 5000. It seems decent at picking up on true negatives (represented by the dark blue box in the upper left hand corner), but is weaker at detecting true positives. Thinking about it in the context of our business problem, <b>the model's ability to detect true negatives is more important</b> because they represent people who <b>did not vaccinate themselves against H1N1</b>. Furthermore, our goal should be <b>reducing the the Type 1 error rate</b> because these are errors where someone was predicted to have taken the vaccine, but did not actually receive it. In other words, we want to reduce that 774 as much as possible. "
   ]
  },
  {
   "cell_type": "markdown",
   "metadata": {},
   "source": [
    "In addition to looking at test data accuracy, we should also look at training data accuracy to see indications of overfitting or underfitting. We can achieve this by using the <b>.score()</b> method."
   ]
  },
  {
   "cell_type": "code",
   "execution_count": 22,
   "metadata": {},
   "outputs": [
    {
     "name": "stdout",
     "output_type": "stream",
     "text": [
      "Training Score:  0.9989930520592085\n",
      "Testing Score:  0.7150624244865083\n"
     ]
    }
   ],
   "source": [
    "# compare accuracy for training and test data using .score()\n",
    "print('Training Score: ', dtree_baseline.score(X_train, y_train))\n",
    "print('Testing Score: ', dtree_baseline.score(X_test, y_test))"
   ]
  },
  {
   "cell_type": "markdown",
   "metadata": {},
   "source": [
    "From <b>.score()</b>, we see that the training data has an accuracy of over 99%. Because the accuracy scores for the training and test data are drastically different, this is indicative of problems regarding <b>overfitting</b>."
   ]
  },
  {
   "cell_type": "markdown",
   "metadata": {},
   "source": [
    "## Model 1b: Hypertuned Decision Tree\n",
    "\n",
    "Let's try to create another version of this decision tree classifier called <b>dtree_tuned</b>. Instead of using the default parameters, we can do some tree \"pruning\" and see if it improves the model's performance. By comparing the training and test scores earlier, we saw that the baseline decision tree did significantly better accuracy-wise on the training data over the test data, therefore indicating possible overfitting. One way to reduce this overfitting issue is to adjust <b>max_depth</b>. I will determine the optimal max_depth for the training and test data by graphing various depth values against their AUC score."
   ]
  },
  {
   "cell_type": "code",
   "execution_count": 23,
   "metadata": {},
   "outputs": [
    {
     "data": {
      "image/png": "[encoded data removed]",
      "text/plain": [
       "<Figure size 864x432 with 1 Axes>"
      ]
     },
     "metadata": {
      "needs_background": "light"
     },
     "output_type": "display_data"
    }
   ],
   "source": [
    "# identify optimal max_depth\n",
    "max_depths = list(range(1, 33))\n",
    "train_results = []\n",
    "test_results = []\n",
    "for max_depth in max_depths:\n",
    "    dt = DecisionTreeClassifier(max_depth=max_depth, random_state=10)\n",
    "    dt.fit(X_train, y_train)\n",
    "    train_pred = dt.predict(X_train)\n",
    "    false_positive_rate, true_positive_rate, thresholds = roc_curve(y_train, train_pred)\n",
    "    roc_auc = auc(false_positive_rate, true_positive_rate)\n",
    "    # Add auc score to previous train results\n",
    "    train_results.append(roc_auc)\n",
    "    y_pred = dt.predict(X_test)\n",
    "    false_positive_rate, true_positive_rate, thresholds = roc_curve(y_test, y_pred)\n",
    "    roc_auc = auc(false_positive_rate, true_positive_rate)\n",
    "    # Add auc score to previous test results\n",
    "    test_results.append(roc_auc)\n",
    "\n",
    "plt.figure(figsize=(12,6))\n",
    "plt.plot(max_depths, train_results, 'b', label='Train AUC')\n",
    "plt.plot(max_depths, test_results, 'r', label='Test AUC')\n",
    "plt.ylabel('AUC score')\n",
    "plt.xlabel('Tree depth')\n",
    "plt.legend()\n",
    "plt.show()"
   ]
  },
  {
   "cell_type": "markdown",
   "metadata": {},
   "source": [
    "From the graph, we see that a max_depth of around 4 is where the test data has the best AUC score. Furthermore, the training data AUC is around the same as the test data AUC at that particular max_depth value. Let's recreate our decision tree with a specified <b>max_depth=4</b>. "
   ]
  },
  {
   "cell_type": "code",
   "execution_count": 24,
   "metadata": {},
   "outputs": [],
   "source": [
    "# train hypertuned decision tree classifier, then use it to predict test data\n",
    "\n",
    "# instantiate DecisionTreeClassifier with random_state=10 and max_depth=4\n",
    "dtree_tuned = DecisionTreeClassifier(random_state=10, max_depth=4)\n",
    "\n",
    "# fit classifier to training data\n",
    "dtree_tuned.fit(X_train, y_train)\n",
    "\n",
    "# predict test data\n",
    "pred_tuned = dtree_tuned.predict(X_test) "
   ]
  },
  {
   "cell_type": "code",
   "execution_count": 25,
   "metadata": {},
   "outputs": [
    {
     "name": "stdout",
     "output_type": "stream",
     "text": [
      "Testing Accuracy for Hypertuned Decision Tree Classifier: 81.41%\n",
      "\n",
      "AUC is: 0.64\n"
     ]
    }
   ],
   "source": [
    "# calculate accuracy_score and AUC for test data to evaluate classifier performance\n",
    "\n",
    "# print accuracy_score\n",
    "print(\"Testing Accuracy for Hypertuned Decision Tree Classifier: {:.4}%\".format(accuracy_score(y_test, pred_tuned) * 100))\n",
    "\n",
    "# check AUC for predictions\n",
    "false_positive_rate, true_positive_rate, thresholds = roc_curve(y_test, pred_tuned)\n",
    "roc_auc = auc(false_positive_rate, true_positive_rate)\n",
    "print('\\nAUC is: {0}'.format(round(roc_auc, 2)))"
   ]
  },
  {
   "cell_type": "code",
   "execution_count": 26,
   "metadata": {
    "scrolled": true
   },
   "outputs": [
    {
     "data": {
      "image/png": "[encoded data removed]",
      "text/plain": [
       "<Figure size 432x288 with 2 Axes>"
      ]
     },
     "metadata": {
      "needs_background": "light"
     },
     "output_type": "display_data"
    }
   ],
   "source": [
    "# generate confusion matrix\n",
    "\n",
    "cnf_matrix = confusion_matrix(y_test, pred_tuned)\n",
    "disp = ConfusionMatrixDisplay(confusion_matrix=cnf_matrix, display_labels=dtree_tuned.classes_)\n",
    "disp.plot(cmap=plt.cm.Blues);"
   ]
  },
  {
   "cell_type": "code",
   "execution_count": 27,
   "metadata": {},
   "outputs": [
    {
     "name": "stdout",
     "output_type": "stream",
     "text": [
      "Training Score:  0.812153861645353\n",
      "Testing Score:  0.8141361256544503\n"
     ]
    }
   ],
   "source": [
    "# compare accuracy for training and test data using .score()\n",
    "print('Training Score: ', dtree_tuned.score(X_train, y_train))\n",
    "print('Testing Score: ', dtree_tuned.score(X_test, y_test))"
   ]
  },
  {
   "cell_type": "markdown",
   "metadata": {},
   "source": [
    "Based on our evaluation metrics, the <b>hypertuned decision tree</b> is an improvement from the <b>baseline decision tree</b>. The <b>accuracy</b> for the hypertuned decision tree is <b>about 81%</b>, which is <b>around a 10% increase</b> from the baseline decision tree classifier. <b>AUC</b> shows a slight increase from 0.6 to <b>0.64</b>. From the <b>confusion matrix</b>, we see a massive improvement in the Type 1 error rate. The <b>number of false positives has decreased</b> from 774 to 208 and the detection of true negatives has risen from 3131 to 3697. In addition, the training and testing scores are closer to each other in magnitude, indicating that overfitting has been taken care of. "
   ]
  },
  {
   "cell_type": "markdown",
   "metadata": {},
   "source": [
    "## Model 2a: Baseline K-Nearest Neighbors\n",
    "\n",
    "For my second model, I will create a <b>k-nearest neighbors (kNN)</b> model. For this type of model, scaling is required as an initial step. This scaling will be achieved by calling upon <b>StandardScaler()</b> from <b>sklearn.preprocessing</b>. "
   ]
  },
  {
   "cell_type": "code",
   "execution_count": 28,
   "metadata": {},
   "outputs": [],
   "source": [
    "# scaling X_train and X_test using StandardScaler\n",
    "\n",
    "from sklearn.preprocessing import StandardScaler\n",
    "\n",
    "scaler = StandardScaler()\n",
    "scaler.fit(X_train)\n",
    "\n",
    "X_train_scaled = scaler.transform(X_train)\n",
    "X_test_scaled = scaler.transform(X_test)"
   ]
  },
  {
   "cell_type": "code",
   "execution_count": 29,
   "metadata": {},
   "outputs": [],
   "source": [
    "# creating baseline kNN model\n",
    "\n",
    "from sklearn.neighbors import KNeighborsClassifier\n",
    "\n",
    "# instantiate kNN model\n",
    "knn_baseline = KNeighborsClassifier()\n",
    "\n",
    "# fit classifier on training data\n",
    "knn_baseline.fit(X_train_scaled, y_train)\n",
    "\n",
    "# predict test data\n",
    "test_preds = knn_baseline.predict(X_test_scaled)"
   ]
  },
  {
   "cell_type": "code",
   "execution_count": 30,
   "metadata": {},
   "outputs": [
    {
     "name": "stdout",
     "output_type": "stream",
     "text": [
      "Testing Accuracy for Baseline KNN Classifier: 78.35%\n",
      "\n",
      "AUC is: 0.58\n"
     ]
    }
   ],
   "source": [
    "# calculate accuracy_score and AUC for test data to evaluate classifier performance\n",
    "\n",
    "# print accuracy_score\n",
    "print(\"Testing Accuracy for Baseline KNN Classifier: {:.4}%\".format(accuracy_score(y_test, test_preds) * 100))\n",
    "\n",
    "# check AUC for predictions\n",
    "false_positive_rate, true_positive_rate, thresholds = roc_curve(y_test, test_preds)\n",
    "roc_auc = auc(false_positive_rate, true_positive_rate)\n",
    "print('\\nAUC is: {0}'.format(round(roc_auc, 2)))"
   ]
  },
  {
   "cell_type": "code",
   "execution_count": 31,
   "metadata": {},
   "outputs": [
    {
     "data": {
      "image/png": "[encoded data removed]",
      "text/plain": [
       "<Figure size 432x288 with 2 Axes>"
      ]
     },
     "metadata": {
      "needs_background": "light"
     },
     "output_type": "display_data"
    }
   ],
   "source": [
    "# generate confusion matrix\n",
    "\n",
    "cnf_matrix = confusion_matrix(y_test, test_preds)\n",
    "disp = ConfusionMatrixDisplay(confusion_matrix=cnf_matrix, display_labels=knn_baseline.classes_)\n",
    "disp.plot(cmap=plt.cm.Blues);"
   ]
  },
  {
   "cell_type": "markdown",
   "metadata": {},
   "source": [
    "From our evaluation metrics, we see that this <b>baseline kNN</b> classifier has an <b>accuracy</b> of <b>about 78%</b>. The <b>AUC</b> score is <b>0.58</b>. The confusion matrix shows 265 false positives. Compared to the <b>baseline decision tree</b>, the <b>baseline kNN</b> model is better in terms of accuracy and its Type 1 error rate, however, the <b>hypertuned decision tree</b> is better than the <b>baseline kNN</b> classifier when it comes to these same two metrics. "
   ]
  },
  {
   "cell_type": "markdown",
   "metadata": {},
   "source": [
    "Let's compare the baseline kNN model's training and testing scores using the <b>.score()</b> method to check for possible overfitting or underfitting."
   ]
  },
  {
   "cell_type": "code",
   "execution_count": 32,
   "metadata": {},
   "outputs": [
    {
     "name": "stdout",
     "output_type": "stream",
     "text": [
      "Training Score:  0.8432182056187695\n",
      "Testing Score:  0.783527990334273\n"
     ]
    }
   ],
   "source": [
    "# compare accuracy for training and test data using .score()\n",
    "print('Training Score: ', knn_baseline.score(X_train_scaled, y_train))\n",
    "print('Testing Score: ', knn_baseline.score(X_test_scaled, y_test))"
   ]
  },
  {
   "cell_type": "markdown",
   "metadata": {},
   "source": [
    "The training and test scores are not signficantly different from each other. This means that overfitting is most likely not an issue. Testing accuracy can still be improved, however, and this can be achieved by tuning some of the key hyperparameters for kNN classifiers."
   ]
  },
  {
   "cell_type": "markdown",
   "metadata": {},
   "source": [
    "## Model 2b: Hypertuned K-Nearest Neighbors\n",
    "\n",
    "Similar to the decision tree, let's create another version of the kNN model with specified parameters. This classifer will be called <b>knn_tuned</b>. One feature of kNN that is important is <b>n_neighbors</b>. Let's graph AUC for different values of n_neighbors to see what an optimal value could be. "
   ]
  },
  {
   "cell_type": "code",
   "execution_count": 33,
   "metadata": {},
   "outputs": [
    {
     "data": {
      "image/png": "[encoded data removed]",
      "text/plain": [
       "<Figure size 720x432 with 1 Axes>"
      ]
     },
     "metadata": {
      "needs_background": "light"
     },
     "output_type": "display_data"
    }
   ],
   "source": [
    "# Code Source: https://www.kaggle.com/code/arunimsamudra/k-nn-with-hyperparameter-tuning#k-Nearest-Neighbors\n",
    "\n",
    "# find optimal value for k (n_neighbors) \n",
    "\n",
    "# importing relevant packages\n",
    "import numpy as np\n",
    "from sklearn import metrics\n",
    "\n",
    "# calculating accuracy with different n_neighbors values\n",
    "mean_acc = np.zeros(20)\n",
    "for i in range(1, 21):\n",
    "    # train models and predict  \n",
    "    knn = KNeighborsClassifier(n_neighbors = i).fit(X_train_scaled, y_train)\n",
    "    yhat = knn.predict(X_test_scaled)\n",
    "    mean_acc[i-1] = metrics.accuracy_score(y_test, yhat)\n",
    "\n",
    "# graphing n_neighbors vs accuracy\n",
    "loc = np.arange(1, 21, step=1.0)\n",
    "plt.figure(figsize = (10, 6))\n",
    "plt.plot(range(1, 21), mean_acc)\n",
    "plt.xticks(loc)\n",
    "plt.xlabel('Number of Neighbors ')\n",
    "plt.ylabel('Accuracy')\n",
    "plt.show()"
   ]
  },
  {
   "cell_type": "markdown",
   "metadata": {},
   "source": [
    "From the graph, we see that AUC is highest around the 15 mark and then plateaus. Let's set <b>n_neighbors=15</b> and see if that improves the model to some extent."
   ]
  },
  {
   "cell_type": "code",
   "execution_count": 34,
   "metadata": {},
   "outputs": [],
   "source": [
    "# creating hypertuned kNN model\n",
    "\n",
    "# instantiate KNeighborsClassifier with n_neighbors=15\n",
    "knn_tuned = KNeighborsClassifier(n_neighbors=15)\n",
    "\n",
    "# fit classifier on training data\n",
    "knn_tuned.fit(X_train_scaled, y_train)\n",
    "\n",
    "# predict on the test set\n",
    "knn_tuned_preds = knn_tuned.predict(X_test_scaled)"
   ]
  },
  {
   "cell_type": "code",
   "execution_count": 35,
   "metadata": {},
   "outputs": [
    {
     "name": "stdout",
     "output_type": "stream",
     "text": [
      "Testing Accuracy for Hypertuned KNN Classifier: 79.66%\n",
      "\n",
      "AUC is: 0.57\n"
     ]
    }
   ],
   "source": [
    "# calculate accuracy_score and AUC for test data to evaluate classifier performance\n",
    "\n",
    "# print accuracy_score\n",
    "print(\"Testing Accuracy for Hypertuned KNN Classifier: {:.4}%\".format(accuracy_score(y_test, knn_tuned_preds) * 100))\n",
    "\n",
    "# check AUC for predictions\n",
    "false_positive_rate, true_positive_rate, thresholds = roc_curve(y_test, knn_tuned_preds)\n",
    "roc_auc = auc(false_positive_rate, true_positive_rate)\n",
    "print('\\nAUC is: {0}'.format(round(roc_auc, 2)))"
   ]
  },
  {
   "cell_type": "code",
   "execution_count": 36,
   "metadata": {},
   "outputs": [
    {
     "data": {
      "image/png": "[encoded data removed]",
      "text/plain": [
       "<Figure size 432x288 with 2 Axes>"
      ]
     },
     "metadata": {
      "needs_background": "light"
     },
     "output_type": "display_data"
    }
   ],
   "source": [
    "# generate confusion matrix\n",
    "\n",
    "cnf_matrix = confusion_matrix(y_test, knn_tuned_preds)\n",
    "disp = ConfusionMatrixDisplay(confusion_matrix=cnf_matrix, display_labels=knn_tuned.classes_)\n",
    "disp.plot(cmap=plt.cm.Blues);"
   ]
  },
  {
   "cell_type": "code",
   "execution_count": 37,
   "metadata": {},
   "outputs": [
    {
     "name": "stdout",
     "output_type": "stream",
     "text": [
      "Training Score:  0.8177927701137852\n",
      "Testing Score:  0.7966169955698752\n"
     ]
    }
   ],
   "source": [
    "# compare accuracy for training and test data using .score()\n",
    "print('Training Score: ', knn_tuned.score(X_train_scaled, y_train))\n",
    "print('Testing Score: ', knn_tuned.score(X_test_scaled, y_test))"
   ]
  },
  {
   "cell_type": "markdown",
   "metadata": {},
   "source": [
    "Compared to <b>knn_baseline</b>, <b>knn_tuned</b> has slightly better accuracy, <b>increasing this metric from about 78% to 80%</b>; the Type 1 error rate is also lower based on the confusion matrix (the number of false positives decreased from 265 to 138). However, the <b>AUC is a bit lower</b> for <b>knn_tuned</b>, being <b>0.57</b>, whereas <b>knn_baseline</b> has an <b>AUC</b> of <b>0.58</b>. Looking at the decision tree models generated earlier, <b>dtree_tuned</b> is still the best model overall, in terms of test data accuracy, but regarding false positive rate, <b>knn_tuned</b> is the better classifier. It should be noted, however, that <b>knn_tuned</b> has more false negatives than <b>dtree_tuned</b>. "
   ]
  },
  {
   "cell_type": "markdown",
   "metadata": {},
   "source": [
    "## Model 3a: Random Forest\n",
    "\n",
    "For the third model type, I will create a <b>random forest</b>. This will be more complex than the single decision tree and kNN classifiers generated previously because this is an ensemble method. To start, I will make a vanilla random forest with default parameters (besides <b>random_state=10</b> for reproducibility). "
   ]
  },
  {
   "cell_type": "code",
   "execution_count": 38,
   "metadata": {},
   "outputs": [],
   "source": [
    "# creating baseline random forest classifer\n",
    "\n",
    "from sklearn.ensemble import RandomForestClassifier\n",
    "\n",
    "# instantiate RandomForestClassifier with random_state=10 for reproducibility\n",
    "forest_baseline = RandomForestClassifier(random_state=10)\n",
    "\n",
    "# fit training data\n",
    "forest_baseline.fit(X_train, y_train)\n",
    "\n",
    "# predict test data\n",
    "forest_baseline_preds = forest_baseline.predict(X_test)"
   ]
  },
  {
   "cell_type": "code",
   "execution_count": 39,
   "metadata": {},
   "outputs": [
    {
     "name": "stdout",
     "output_type": "stream",
     "text": [
      "Testing Accuracy for Random Forest Classifier: 81.03%\n",
      "\n",
      "AUC is: 0.62\n"
     ]
    }
   ],
   "source": [
    "# calculate accuracy_score and AUC for test data to evaluate classifier performance\n",
    "\n",
    "# print accuracy_score\n",
    "print(\"Testing Accuracy for Random Forest Classifier: {:.4}%\".format(accuracy_score(y_test, forest_baseline_preds) * 100))\n",
    "\n",
    "# check AUC for predictions\n",
    "false_positive_rate, true_positive_rate, thresholds = roc_curve(y_test, forest_baseline_preds)\n",
    "roc_auc = auc(false_positive_rate, true_positive_rate)\n",
    "print('\\nAUC is: {0}'.format(round(roc_auc, 2)))"
   ]
  },
  {
   "cell_type": "code",
   "execution_count": 40,
   "metadata": {},
   "outputs": [
    {
     "data": {
      "image/png": "[encoded data removed]",
      "text/plain": [
       "<Figure size 432x288 with 2 Axes>"
      ]
     },
     "metadata": {
      "needs_background": "light"
     },
     "output_type": "display_data"
    }
   ],
   "source": [
    "# generate confusion matrix\n",
    "\n",
    "cnf_matrix = confusion_matrix(y_test, forest_baseline_preds)\n",
    "disp = ConfusionMatrixDisplay(confusion_matrix=cnf_matrix, display_labels=forest_baseline.classes_)\n",
    "disp.plot(cmap=plt.cm.Blues);"
   ]
  },
  {
   "cell_type": "markdown",
   "metadata": {},
   "source": [
    "For <b>forest_baseline</b>, the testing <b>accuracy</b> is <b>about 81%</b> and the <b>AUC</b> is <b>0.62</b>. From the confusion matrix, we see that there are 173 false positives. Compared to the other baseline models, <b>dtree_baseline</b> and <b>knn_baseline</b>, <b>forest_baseline</b> has the best accuracy. When including the hypertuned models, <b>dtree_tuned</b> has slightly better accuracy than <b>forest_baseline</b>. "
   ]
  },
  {
   "cell_type": "markdown",
   "metadata": {},
   "source": [
    "Let's use <b>.score()</b> to compare the accuracy of the <b>forest_baseline</b> classifier on the training and testing sets."
   ]
  },
  {
   "cell_type": "code",
   "execution_count": 41,
   "metadata": {},
   "outputs": [
    {
     "name": "stdout",
     "output_type": "stream",
     "text": [
      "Training Score:  0.998942704662169\n",
      "Testing Score:  0.8103101087394281\n"
     ]
    }
   ],
   "source": [
    "# compare accuracy for training and test data using .score()\n",
    "print('Training Score: ', forest_baseline.score(X_train, y_train))\n",
    "print('Testing Score: ', forest_baseline.score(X_test, y_test))"
   ]
  },
  {
   "cell_type": "markdown",
   "metadata": {},
   "source": [
    "From the training and testing scores, we see that the training score is significantly higher than the testing score. This indicates that overfitting may be an issue. Similar to the decision tree, we can tune hyperparameters for the random forest model to take care of this problem. "
   ]
  },
  {
   "cell_type": "markdown",
   "metadata": {},
   "source": [
    "## Model 3b: Hypertuned Random Forest \n",
    "\n",
    "As mentioned previously, let's try to improve <b>forest_baseline</b> by tuning hyperparameters. To figure out the optimal parameters, we can use the <b>GridSearchCV</b> tool from <b>sklearn.model_selection</b>. The parameters we will focus on are <b>n_estimators</b> and <b>max_depth</b>. Once <b>GridSearchCV</b> returns its suggestions, we will create <b>forest_tuned</b> and evaluate its performance."
   ]
  },
  {
   "cell_type": "markdown",
   "metadata": {},
   "source": [
    "To start, I will generate a parameter grid called <b>param_grid</b>. "
   ]
  },
  {
   "cell_type": "code",
   "execution_count": 42,
   "metadata": {},
   "outputs": [],
   "source": [
    "# generate param_grid\n",
    "forest_param_grid = {\n",
    "    \"n_estimators\": [10, 30, 100],\n",
    "    \"max_depth\": [None, 2, 6, 10],\n",
    "}"
   ]
  },
  {
   "cell_type": "code",
   "execution_count": 43,
   "metadata": {},
   "outputs": [
    {
     "name": "stdout",
     "output_type": "stream",
     "text": [
      "Optimal Parameters: {'max_depth': 10, 'n_estimators': 100}\n"
     ]
    }
   ],
   "source": [
    "# use GridSearchCV to find optimal parameters\n",
    "\n",
    "from sklearn.model_selection import GridSearchCV\n",
    "\n",
    "rf_grid_search = GridSearchCV(forest_baseline, forest_param_grid, cv=3) # cv=3 for 3-fold cross validation\n",
    "rf_grid_search.fit(X_train, y_train)\n",
    "\n",
    "print(f\"Optimal Parameters: {rf_grid_search.best_params_}\")"
   ]
  },
  {
   "cell_type": "code",
   "execution_count": 44,
   "metadata": {},
   "outputs": [],
   "source": [
    "# instantiate RandomForestClassifier with hypertuned parameters (based on GridSearchCV results)\n",
    "forest_tuned = RandomForestClassifier(random_state=10, \n",
    "                                      max_depth=10, \n",
    "                                      n_estimators=100)\n",
    "\n",
    "# fit training data\n",
    "forest_tuned.fit(X_train, y_train)\n",
    "\n",
    "# predict test data\n",
    "forest_tuned_preds = forest_tuned.predict(X_test)"
   ]
  },
  {
   "cell_type": "code",
   "execution_count": 45,
   "metadata": {},
   "outputs": [
    {
     "name": "stdout",
     "output_type": "stream",
     "text": [
      "Testing Accuracy for Hypertuned Random Forest: 81.39%\n",
      "\n",
      "AUC is: 0.6\n"
     ]
    }
   ],
   "source": [
    "# calculate accuracy_score and AUC for test data to evaluate classifier performance\n",
    "\n",
    "# print accuracy_score\n",
    "print(\"Testing Accuracy for Hypertuned Random Forest: {:.4}%\".format(accuracy_score(y_test, forest_tuned_preds) * 100))\n",
    "\n",
    "# check AUC for predictions\n",
    "false_positive_rate, true_positive_rate, thresholds = roc_curve(y_test, forest_tuned_preds)\n",
    "roc_auc = auc(false_positive_rate, true_positive_rate)\n",
    "print('\\nAUC is: {0}'.format(round(roc_auc, 2)))"
   ]
  },
  {
   "cell_type": "code",
   "execution_count": 46,
   "metadata": {},
   "outputs": [
    {
     "data": {
      "image/png": "[encoded data removed]",
      "text/plain": [
       "<Figure size 432x288 with 2 Axes>"
      ]
     },
     "metadata": {
      "needs_background": "light"
     },
     "output_type": "display_data"
    }
   ],
   "source": [
    "# generate confusion matrix\n",
    "\n",
    "cnf_matrix = confusion_matrix(y_test, forest_tuned_preds)\n",
    "disp = ConfusionMatrixDisplay(confusion_matrix=cnf_matrix, display_labels=forest_tuned.classes_)\n",
    "disp.plot(cmap=plt.cm.Blues);"
   ]
  },
  {
   "cell_type": "code",
   "execution_count": 47,
   "metadata": {},
   "outputs": [
    {
     "name": "stdout",
     "output_type": "stream",
     "text": [
      "Training Score:  0.8505689255865472\n",
      "Testing Score:  0.8139347563431333\n"
     ]
    }
   ],
   "source": [
    "# compare accuracy for training and test data using .score()\n",
    "print('Training Score: ', forest_tuned.score(X_train, y_train))\n",
    "print('Testing Score: ', forest_tuned.score(X_test, y_test))"
   ]
  },
  {
   "cell_type": "markdown",
   "metadata": {},
   "source": [
    "The <b>forest_tuned</b> classifier has an <b>accuracy</b> of about <b>81.4%</b> and an AUC of <b>0.6</b>. The improvements in accuracy between <b>forest_baseline</b> and <b>forest_tuned</b> are marginal. Between <b>forest_baseline</b> and <b>forest_tuned</b>, the tuned forest model has less false positives than the baseline forest model, decreasing the amount from 173 to 111. The training and testing scores show that overfitting is no longer an issue, being closer to each other in magnitude. "
   ]
  },
  {
   "cell_type": "markdown",
   "metadata": {},
   "source": [
    "## Best Model\n",
    "\n",
    "Out of our 6 models, let's choose the best one. We will start by revisiting their testing accuracies. "
   ]
  },
  {
   "cell_type": "code",
   "execution_count": 48,
   "metadata": {},
   "outputs": [
    {
     "name": "stdout",
     "output_type": "stream",
     "text": [
      "Testing Accuracy for Baseline Decision Tree Classifier: 71.51%\n",
      "Testing Accuracy for Hypertuned Decision Tree Classifier: 81.41%\n",
      "\n",
      "Testing Accuracy for Baseline KNN Classifier: 78.35%\n",
      "Testing Accuracy for Hypertuned KNN Classifier: 79.66%\n",
      "\n",
      "Testing Accuracy for Random Forest Classifier: 81.03%\n",
      "Testing Accuracy for Hypertuned Random Forest: 81.39%\n"
     ]
    }
   ],
   "source": [
    "# comparing testing accuracy for all 6 models\n",
    "\n",
    "# decision trees\n",
    "print(\"Testing Accuracy for Baseline Decision Tree Classifier: {:.4}%\".format(accuracy_score(y_test, pred) * 100))\n",
    "print(\"Testing Accuracy for Hypertuned Decision Tree Classifier: {:.4}%\".format(accuracy_score(y_test, pred_tuned) * 100))\n",
    "print(\"\")\n",
    "\n",
    "# kNN models\n",
    "print(\"Testing Accuracy for Baseline KNN Classifier: {:.4}%\".format(accuracy_score(y_test, test_preds) * 100))\n",
    "print(\"Testing Accuracy for Hypertuned KNN Classifier: {:.4}%\".format(accuracy_score(y_test, knn_tuned_preds) * 100))\n",
    "print(\"\")\n",
    "\n",
    "# random forest models\n",
    "print(\"Testing Accuracy for Random Forest Classifier: {:.4}%\".format(accuracy_score(y_test, forest_baseline_preds) * 100))\n",
    "print(\"Testing Accuracy for Hypertuned Random Forest: {:.4}%\".format(accuracy_score(y_test, forest_tuned_preds) * 100))"
   ]
  },
  {
   "cell_type": "markdown",
   "metadata": {},
   "source": [
    "We see that the highest testing accuracies are for <b>dtree_tuned</b> and <b>forest_tuned</b>, with both being around 81.4%. Let's revisit the confusion matrices for both models. "
   ]
  },
  {
   "cell_type": "code",
   "execution_count": 49,
   "metadata": {},
   "outputs": [
    {
     "data": {
      "image/png": "[encoded data removed]",
      "text/plain": [
       "<Figure size 432x288 with 2 Axes>"
      ]
     },
     "metadata": {
      "needs_background": "light"
     },
     "output_type": "display_data"
    },
    {
     "data": {
      "image/png": "[encoded data removed]",
      "text/plain": [
       "<Figure size 432x288 with 2 Axes>"
      ]
     },
     "metadata": {
      "needs_background": "light"
     },
     "output_type": "display_data"
    }
   ],
   "source": [
    "# revisiting confusion matrices for dtree_tuned and forest_tuned\n",
    "\n",
    "# dtree_tuned\n",
    "cnf_matrix = confusion_matrix(y_test, test_preds)\n",
    "disp = ConfusionMatrixDisplay(confusion_matrix=cnf_matrix, display_labels=knn_baseline.classes_)\n",
    "disp.plot(cmap=plt.cm.Blues);\n",
    "\n",
    "# forest_tuned\n",
    "cnf_matrix = confusion_matrix(y_test, forest_tuned_preds)\n",
    "disp = ConfusionMatrixDisplay(confusion_matrix=cnf_matrix, display_labels=forest_tuned.classes_)\n",
    "disp.plot(cmap=plt.cm.Blues);"
   ]
  },
  {
   "cell_type": "markdown",
   "metadata": {},
   "source": [
    "Going back to the beginning of the modeling process, we said that reducing the number of false positives was the main priority because these represent people who were predicted to have gotten the H1N1 vaccine, but did not actually receive it. Even though the accuracies on the testing data for both classifiers were around the same, <b>forest_tuned</b> is the better classifier when it comes to detecting true negatives and reducing Type 1 error. Therefore, we will choose <b>forest_tuned</b> as our <b>final model</b>. "
   ]
  },
  {
   "cell_type": "markdown",
   "metadata": {},
   "source": [
    "## Final Model\n",
    "\n",
    "For the final model, <b>forest_tuned</b>, let's go ahead and plot the most important features. From here, we can craft our suggestions for the stakeholder."
   ]
  },
  {
   "cell_type": "code",
   "execution_count": 50,
   "metadata": {},
   "outputs": [
    {
     "data": {
      "image/png": "[encoded data removed]",
      "text/plain": [
       "<Figure size 576x576 with 1 Axes>"
      ]
     },
     "metadata": {
      "needs_background": "light"
     },
     "output_type": "display_data"
    }
   ],
   "source": [
    "# create function for plotting most important features\n",
    "\n",
    "def plot_feature_importances(model):\n",
    "    n_features = X_train.shape[1]\n",
    "    plt.figure(figsize=(8,8))\n",
    "    plt.barh(range(n_features), model.feature_importances_, align='center') \n",
    "    plt.yticks(np.arange(n_features), X_train.columns.values) \n",
    "    plt.xlabel('Feature importance')\n",
    "    plt.ylabel('Feature')\n",
    "\n",
    "# plot most important features for forest_tuned classifier\n",
    "plot_feature_importances(forest_tuned)"
   ]
  },
  {
   "cell_type": "markdown",
   "metadata": {},
   "source": [
    "From the bar graph, we see that the most important features in our classifer are <b>opinion_h1n1_risk</b>, <b>opinion_h1n1_vacc_effective</b>, and <b>health_worker</b>. The <b>opinion_h1n1_risk</b> column represents a person's confidence on whether they will get sick or not without the H1N1 vaccine. Meanwhile, <b>opinion_h1n1_vacc_effective</b> is how effective a person believes the H1N1 vaccine is. Lastly, <b>health_worker</b> represents whether a person surveyed is in healthcare or not. Let's create visuals for each of these features comparing vaccination rates for the different categories."
   ]
  },
  {
   "cell_type": "code",
   "execution_count": 61,
   "metadata": {},
   "outputs": [],
   "source": [
    "# Code Source: https://drivendata.co/blog/predict-flu-vaccine-data-benchmark/\n",
    "\n",
    "def vaccination_rate_plot(col, target, data, ax=None):\n",
    "    \"\"\"Stacked bar chart of vaccination rate for `target` against \n",
    "    `col`. \n",
    "    \n",
    "    Args:\n",
    "        col (string): column name of feature variable\n",
    "        target (string): column name of target variable\n",
    "        data (pandas DataFrame): dataframe that contains columns \n",
    "            `col` and `target`\n",
    "        ax (matplotlib axes object, optional): matplotlib axes \n",
    "            object to attach plot to\n",
    "    \"\"\"\n",
    "    counts = (h1n1_data[[target, col]]\n",
    "                  .groupby([target, col])\n",
    "                  .size()\n",
    "                  .unstack(target)\n",
    "             )\n",
    "    group_counts = counts.sum(axis='columns')\n",
    "    props = counts.div(group_counts, axis='index')\n",
    "\n",
    "    props.plot(kind=\"barh\", ax=ax)\n",
    "    ax.invert_yaxis()\n",
    "    ax.legend().remove()"
   ]
  },
  {
   "cell_type": "code",
   "execution_count": 62,
   "metadata": {},
   "outputs": [
    {
     "data": {
      "image/png": "[encoded data removed]",
      "text/plain": [
       "<Figure size 648x540 with 6 Axes>"
      ]
     },
     "metadata": {
      "needs_background": "light"
     },
     "output_type": "display_data"
    }
   ],
   "source": [
    "cols_to_plot = [\n",
    "    'opinion_h1n1_vacc_effective',\n",
    "    'opinion_h1n1_risk',\n",
    "    'health_worker'\n",
    "]\n",
    "\n",
    "fig, ax = plt.subplots(\n",
    "    len(cols_to_plot), 2, figsize=(9, len(cols_to_plot)*2.5)\n",
    ")\n",
    "for idx, col in enumerate(cols_to_plot):\n",
    "    vaccination_rate_plot(\n",
    "        col, 'h1n1_vaccine', h1n1_data, ax=ax[idx, 0]\n",
    "    )\n",
    "    \n",
    "ax[0, 0].legend(\n",
    "    loc='lower center', bbox_to_anchor=(0.5, 1.05), title='h1n1_vaccine'\n",
    ")\n",
    "fig.tight_layout()"
   ]
  },
  {
   "cell_type": "markdown",
   "metadata": {},
   "source": [
    "## Conclusions\n",
    "\n",
    "Suggestions (3)---based on plot_feature_importances (three groups to target the most)\n",
    "\n",
    "Think of visualizations to use based on 3 groups of interest (can do groupby for age)\n",
    "\n",
    "Groups with certain opinions (think you can get sick from vacccine, etc)\n",
    "\n",
    "Create bar charts displaying binary data for each of the 3 groups that was decided by plot_feature_importances"
   ]
  },
  {
   "cell_type": "markdown",
   "metadata": {},
   "source": [
    "## Limitations and Future Improvements"
   ]
  }
 ],
 "metadata": {
  "kernelspec": {
   "display_name": "Python 3",
   "language": "python",
   "name": "python3"
  },
  "language_info": {
   "codemirror_mode": {
    "name": "ipython",
    "version": 3
   },
   "file_extension": ".py",
   "mimetype": "text/x-python",
   "name": "python",
   "nbconvert_exporter": "python",
   "pygments_lexer": "ipython3",
   "version": "3.8.5"
  }
 },
 "nbformat": 4,
 "nbformat_minor": 4
}
